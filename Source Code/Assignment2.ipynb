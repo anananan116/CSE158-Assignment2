{
 "cells": [
  {
   "cell_type": "code",
   "execution_count": 1,
   "id": "668cad70-203b-45c2-9e99-cdd802cf62ac",
   "metadata": {},
   "outputs": [
    {
     "name": "stderr",
     "output_type": "stream",
     "text": [
      "2023-12-04 11:41:48.313718: E tensorflow/compiler/xla/stream_executor/cuda/cuda_dnn.cc:9342] Unable to register cuDNN factory: Attempting to register factory for plugin cuDNN when one has already been registered\n",
      "2023-12-04 11:41:48.313745: E tensorflow/compiler/xla/stream_executor/cuda/cuda_fft.cc:609] Unable to register cuFFT factory: Attempting to register factory for plugin cuFFT when one has already been registered\n",
      "2023-12-04 11:41:48.313763: E tensorflow/compiler/xla/stream_executor/cuda/cuda_blas.cc:1518] Unable to register cuBLAS factory: Attempting to register factory for plugin cuBLAS when one has already been registered\n",
      "2023-12-04 11:41:48.318510: I tensorflow/core/platform/cpu_feature_guard.cc:182] This TensorFlow binary is optimized to use available CPU instructions in performance-critical operations.\n",
      "To enable the following instructions: AVX2 FMA, in other operations, rebuild TensorFlow with the appropriate compiler flags.\n"
     ]
    }
   ],
   "source": [
    "import numpy as np\n",
    "import pandas as pd\n",
    "import tensorflow as tf\n",
    "import gzip\n",
    "from collections import defaultdict\n",
    "import math\n",
    "import sklearn\n",
    "from surprise import SVD, Reader, Dataset\n",
    "from surprise.model_selection import train_test_split, GridSearchCV\n",
    "from sklearn.model_selection import train_test_split\n",
    "import matplotlib.pyplot as plt\n",
    "from tqdm.notebook import tqdm\n",
    "import random"
   ]
  },
  {
   "cell_type": "code",
   "execution_count": 2,
   "id": "92ef5165-2f8c-492d-8f3c-9c89787ef585",
   "metadata": {},
   "outputs": [],
   "source": [
    "def readGz(path):\n",
    "    for l in gzip.open(path, 'rt'):\n",
    "        yield eval(l)"
   ]
  },
  {
   "cell_type": "code",
   "execution_count": 3,
   "id": "65bcd3de-c29b-4569-9e77-b13ecaf36feb",
   "metadata": {},
   "outputs": [],
   "source": [
    "game_meta = []\n",
    "users = []"
   ]
  },
  {
   "cell_type": "code",
   "execution_count": 4,
   "id": "53519e6e-8d74-41fa-8ded-772276a6169e",
   "metadata": {},
   "outputs": [],
   "source": [
    "for d in readGz(\"steam_games.json.gz\"):\n",
    "    game_meta.append(d)\n",
    "for d in readGz(\"australian_users_items.json.gz\"):\n",
    "    #remove all user without purchase\n",
    "    if len(d['items']) > 0:\n",
    "        users.append(d)"
   ]
  },
  {
   "cell_type": "code",
   "execution_count": 5,
   "id": "402ebadd-da10-4eb0-8290-11396f212819",
   "metadata": {},
   "outputs": [],
   "source": [
    "def price_to_text(price):\n",
    "    if type(price) == str:\n",
    "        return \"Free to Play\"\n",
    "    price = float(price)\n",
    "    if price<10:\n",
    "        return \"low-price\"\n",
    "    if price<35:\n",
    "        return \"medium-price\"\n",
    "    return \"high-price\""
   ]
  },
  {
   "cell_type": "code",
   "execution_count": 6,
   "id": "7d4d58ba-7612-4a03-81f1-07031a901a78",
   "metadata": {},
   "outputs": [],
   "source": [
    "all_genre_tags = defaultdict(int)\n",
    "game_tags = defaultdict(set)\n",
    "for d in game_meta:\n",
    "    keys = d.keys()\n",
    "    if ('id' not in keys):\n",
    "        #print(d)\n",
    "        if (d['url'] == 'http://store.steampowered.com/app/200260'):\n",
    "            g = 200260\n",
    "        else:\n",
    "            continue\n",
    "    else:\n",
    "        g = d['id']\n",
    "    if 'price' not in keys:\n",
    "        game_tags[g].add('Free to Play')\n",
    "    else:\n",
    "        game_tags[g].add(price_to_text(d['price']))\n",
    "    if ('tags' in keys):      \n",
    "        for tag in d['tags']:\n",
    "            game_tags[g].add(tag)\n",
    "    if ('genres' in keys):\n",
    "        for genre in d['genres']:\n",
    "            game_tags[g].add(genre)\n",
    "    # if ('specs' in keys):\n",
    "    #     for spec in d['specs']:\n",
    "    #         game_tags[g].add(spec)\n",
    "    for tag in game_tags[g]:\n",
    "        all_genre_tags[tag] += 1"
   ]
  },
  {
   "cell_type": "code",
   "execution_count": 7,
   "id": "ece8937b-96d3-4e13-8e2e-e4db6fcef34c",
   "metadata": {},
   "outputs": [],
   "source": [
    "game_purchased_count = defaultdict(int)\n",
    "for d in users:\n",
    "    items = d['items']\n",
    "    for item in items:\n",
    "        if (item['playtime_forever'] > 60):\n",
    "            game_purchased_count[item['item_id']] += 1"
   ]
  },
  {
   "cell_type": "code",
   "execution_count": 8,
   "id": "3342db2e-06d0-46b9-80d1-6a6a3debe6ee",
   "metadata": {},
   "outputs": [],
   "source": [
    "game_to_keep = set()\n",
    "for g in game_purchased_count:\n",
    "    if (game_purchased_count[g]>100):\n",
    "        game_to_keep.add(g)"
   ]
  },
  {
   "cell_type": "code",
   "execution_count": 9,
   "id": "e0e17d57-12c7-445a-b5b4-06e78fef1037",
   "metadata": {},
   "outputs": [],
   "source": [
    "sorted_tags = sorted(list(all_genre_tags.keys()), key = lambda x: all_genre_tags[x], reverse = True)"
   ]
  },
  {
   "cell_type": "code",
   "execution_count": 10,
   "id": "df3e77f1-e00f-452f-be87-83e1edc36aba",
   "metadata": {},
   "outputs": [],
   "source": [
    "def process_data(all_users, tag_to_keep):\n",
    "    A_i = defaultdict(list)\n",
    "    tags_kept = set(sorted_tags[:tag_to_keep])\n",
    "    tags_kept_l = sorted_tags[:tag_to_keep]\n",
    "    rare_bonus = {k:(lambda x: x*1.0/tag_to_keep*0.6-0.3 if x>tag_to_keep/2 else 0)(i) for i,k in enumerate(tags_kept)}\n",
    "    games_no_tags = []\n",
    "    for g in game_to_keep:\n",
    "        tags = game_tags[g]\n",
    "        tag_list = list(game_tags[g])\n",
    "        new_tags = tags_kept.intersection(tags)\n",
    "        if (len(new_tags) == 0):\n",
    "            #print(\"no tag!!\")\n",
    "            games_no_tags.append(g)\n",
    "            continue\n",
    "        else:\n",
    "            for tag in tags_kept_l:\n",
    "                if tag not in tags:\n",
    "                    A_i[g].append(0)\n",
    "                else:\n",
    "                    #using gamma transformation to transform ranking of tag to 0-1\n",
    "                    relevance = 1-(tag_list.index(tag)*1.0/len(game_tags[g]))**3\n",
    "                    #apply rare bonus\n",
    "                    relevance += rare_bonus[tag]\n",
    "                    if (relevance>1):\n",
    "                        relevance = 1.0\n",
    "                    A_i[g].append(relevance)\n",
    "    games_w_tags = list(A_i.keys())\n",
    "    games_w_tags_set = set(A_i.keys())\n",
    "    interactions = []\n",
    "    users_kept = []\n",
    "    for u in all_users:\n",
    "        num_recorded = 0\n",
    "        for item in u['items']:\n",
    "            if item['item_id'] in games_w_tags_set:\n",
    "                num_recorded += 1\n",
    "        if num_recorded>=10:\n",
    "            users_kept.append(u)\n",
    "    a = 0\n",
    "    above_zero = lambda x: x if x > 0 else 0\n",
    "    for u in tqdm(users_kept):\n",
    "        for item in u['items']:\n",
    "            if item['item_id'] in games_w_tags_set:\n",
    "                if (item['playtime_forever'] > 120):\n",
    "                    interactions.append((a, games_w_tags.index(item['item_id']), above_zero(np.log2(item['playtime_forever']/60))))\n",
    "        a += 1\n",
    "    A_i_matrix = np.zeros((tag_to_keep, len(games_w_tags)))\n",
    "    for a,g in enumerate(games_w_tags):\n",
    "        for b,relevance in enumerate(A_i[g]):\n",
    "            A_i_matrix[b,a] = relevance\n",
    "    return A_i_matrix, interactions, users_kept, games_w_tags"
   ]
  },
  {
   "cell_type": "code",
   "execution_count": 11,
   "id": "ee593108-23f6-452d-a2ed-baf9b42beb1f",
   "metadata": {},
   "outputs": [
    {
     "data": {
      "application/vnd.jupyter.widget-view+json": {
       "model_id": "24e61e7c564743228bf0229d1de38725",
       "version_major": 2,
       "version_minor": 0
      },
      "text/plain": [
       "  0%|          | 0/54667 [00:00<?, ?it/s]"
      ]
     },
     "metadata": {},
     "output_type": "display_data"
    }
   ],
   "source": [
    "A_i_matrix_30, interactions_30, users_kept_30, games_w_tags_30 = process_data(users, 30)"
   ]
  },
  {
   "cell_type": "code",
   "execution_count": 12,
   "id": "84947e5d-bf62-4a35-b3f0-e012fe91c3b7",
   "metadata": {},
   "outputs": [],
   "source": [
    "average_hours = float(sum([d[2] for d in interactions_30])*1.0/len(interactions_30))"
   ]
  },
  {
   "cell_type": "code",
   "execution_count": 13,
   "id": "8920f238-2ed2-4fc8-8957-c81587b9dbe6",
   "metadata": {},
   "outputs": [],
   "source": [
    "class tagMF(tf.keras.Model):\n",
    "    def __init__(self, F, lamb, A_i, mu, U, I):\n",
    "        super(tagMF, self).__init__()\n",
    "        self.alpha = tf.Variable(mu)\n",
    "        self.P = tf.Variable(tf.random.normal([U,F],stddev=0.001)) #User factors, R^(U, F)\n",
    "        self.Theta_i = tf.Variable(tf.random.normal([len(A_i),F],stddev=0.001)) #tag to factors, R^(T, F)\n",
    "        self.A_i = tf.constant(A_i) #Item-tag relevance, R^(I, T)\n",
    "        self.betaU = tf.Variable(tf.random.normal([U],stddev=0.001))\n",
    "        self.betaI = tf.Variable(tf.random.normal([I],stddev=0.001))\n",
    "        self.lamb = lamb\n",
    "        self.F = F\n",
    "\n",
    "    # Prediction for a single instance (useful for evaluation)\n",
    "    def predict(self, u, i):\n",
    "        p_u = tf.reshape(self.P[u], [1, -1])\n",
    "        p = tf.linalg.matmul(p_u, tf.transpose(self.Theta_i))\n",
    "        p = tf.squeeze(p)\n",
    "        final_result = tf.reduce_sum(tf.multiply(p, self.A_i[:,i]))\n",
    "        print(final_result)\n",
    "        return self.alpha + self.betaU[u] + self.betaI[i] + final_result\n",
    "        \n",
    "    def predict_given_user(self, u, i):\n",
    "        p_u = tf.reshape(tf.constant(u), [1, -1])\n",
    "        p = tf.linalg.matmul(p_u, self.Theta_i)\n",
    "        p = tf.squeeze(p)\n",
    "        Theta_Ai = tf.linalg.matmul(tf.transpose(self.Theta_i), tf.reshape(self.A_i[:,i], [-1, 1]))\n",
    "        Theta_Ai = tf.squeeze(Theta_Ai)\n",
    "        final_result = tf.reduce_sum(tf.multiply(p, Theta_Ai))\n",
    "        return final_result\n",
    "        \n",
    "    # Regularizer\n",
    "    def reg(self):\n",
    "        return self.lamb * (tf.reduce_sum(self.P**2) + tf.reduce_sum(self.Theta_i**2) + tf.reduce_sum(self.betaU**2) + tf.reduce_sum(self.betaI**2))\n",
    "    \n",
    "    # Prediction for a sample of instances\n",
    "    def predictSample(self, sampleU, sampleI):\n",
    "        u = tf.convert_to_tensor(sampleU, dtype=tf.int32)\n",
    "        i = tf.convert_to_tensor(sampleI, dtype=tf.int32)\n",
    "        beta_u = tf.nn.embedding_lookup(self.betaU, u)\n",
    "        beta_i = tf.nn.embedding_lookup(self.betaI, i)\n",
    "        p_u = tf.transpose(tf.nn.embedding_lookup(self.P, u))\n",
    "        A = tf.gather(self.A_i, indices=i, axis=1)\n",
    "        i_factors = tf.linalg.matmul(tf.transpose(self.Theta_i), A)\n",
    "        pred = tf.reduce_sum(tf.multiply(p_u, i_factors),0)\n",
    "        return self.alpha + beta_u + beta_i + pred\n",
    "    \n",
    "    # Loss\n",
    "    def call(self, sampleU, sampleI, sampleR):\n",
    "        pred = self.predictSample(sampleU, sampleI)\n",
    "        r = tf.convert_to_tensor(sampleR, dtype=tf.float32)\n",
    "        squared_diff = tf.square(pred - r)\n",
    "        mse_loss = tf.reduce_mean(squared_diff)\n",
    "        \n",
    "        return mse_loss"
   ]
  },
  {
   "cell_type": "code",
   "execution_count": 14,
   "id": "499954c3-cc0b-4194-afcd-daef38dcb7e9",
   "metadata": {},
   "outputs": [],
   "source": [
    "def trainingStep(model, interactions):\n",
    "    Nsamples = 50000\n",
    "    reg = 0\n",
    "    with tf.GradientTape() as tape:\n",
    "        sampleU,sampleI,sampleR = zip(*random.sample(interactions, Nsamples))\n",
    "        loss = model(sampleU,sampleI,sampleR)\n",
    "        reg = model.reg()\n",
    "        loss += reg\n",
    "    gradients = tape.gradient(loss, model.trainable_variables)\n",
    "    optimizer.apply_gradients((grad, var) for\n",
    "                              (grad, var) in zip(gradients, model.trainable_variables)\n",
    "                              if grad is not None)\n",
    "    return loss.numpy()-reg"
   ]
  },
  {
   "cell_type": "code",
   "execution_count": 15,
   "id": "41f520a7-397c-4e19-9b60-a893fcfa4af5",
   "metadata": {},
   "outputs": [],
   "source": [
    "def MSE(y, ypred):\n",
    "            return sum((yt - yp) ** 2 for yt, yp in zip(y, ypred)) / len(y)"
   ]
  },
  {
   "cell_type": "code",
   "execution_count": 17,
   "id": "9658c568-0fcc-4bee-88a9-28fc49f2437a",
   "metadata": {},
   "outputs": [
    {
     "name": "stderr",
     "output_type": "stream",
     "text": [
      "2023-12-04 11:43:19.971987: I tensorflow/compiler/xla/stream_executor/cuda/cuda_gpu_executor.cc:894] successful NUMA node read from SysFS had negative value (-1), but there must be at least one NUMA node, so returning NUMA node zero. See more at https://github.com/torvalds/linux/blob/v6.0/Documentation/ABI/testing/sysfs-bus-pci#L344-L355\n",
      "2023-12-04 11:43:19.976245: I tensorflow/compiler/xla/stream_executor/cuda/cuda_gpu_executor.cc:894] successful NUMA node read from SysFS had negative value (-1), but there must be at least one NUMA node, so returning NUMA node zero. See more at https://github.com/torvalds/linux/blob/v6.0/Documentation/ABI/testing/sysfs-bus-pci#L344-L355\n",
      "2023-12-04 11:43:19.976400: I tensorflow/compiler/xla/stream_executor/cuda/cuda_gpu_executor.cc:894] successful NUMA node read from SysFS had negative value (-1), but there must be at least one NUMA node, so returning NUMA node zero. See more at https://github.com/torvalds/linux/blob/v6.0/Documentation/ABI/testing/sysfs-bus-pci#L344-L355\n",
      "2023-12-04 11:43:19.977997: I tensorflow/compiler/xla/stream_executor/cuda/cuda_gpu_executor.cc:894] successful NUMA node read from SysFS had negative value (-1), but there must be at least one NUMA node, so returning NUMA node zero. See more at https://github.com/torvalds/linux/blob/v6.0/Documentation/ABI/testing/sysfs-bus-pci#L344-L355\n",
      "2023-12-04 11:43:19.978149: I tensorflow/compiler/xla/stream_executor/cuda/cuda_gpu_executor.cc:894] successful NUMA node read from SysFS had negative value (-1), but there must be at least one NUMA node, so returning NUMA node zero. See more at https://github.com/torvalds/linux/blob/v6.0/Documentation/ABI/testing/sysfs-bus-pci#L344-L355\n",
      "2023-12-04 11:43:19.978285: I tensorflow/compiler/xla/stream_executor/cuda/cuda_gpu_executor.cc:894] successful NUMA node read from SysFS had negative value (-1), but there must be at least one NUMA node, so returning NUMA node zero. See more at https://github.com/torvalds/linux/blob/v6.0/Documentation/ABI/testing/sysfs-bus-pci#L344-L355\n",
      "2023-12-04 11:43:20.041132: I tensorflow/compiler/xla/stream_executor/cuda/cuda_gpu_executor.cc:894] successful NUMA node read from SysFS had negative value (-1), but there must be at least one NUMA node, so returning NUMA node zero. See more at https://github.com/torvalds/linux/blob/v6.0/Documentation/ABI/testing/sysfs-bus-pci#L344-L355\n",
      "2023-12-04 11:43:20.041284: I tensorflow/compiler/xla/stream_executor/cuda/cuda_gpu_executor.cc:894] successful NUMA node read from SysFS had negative value (-1), but there must be at least one NUMA node, so returning NUMA node zero. See more at https://github.com/torvalds/linux/blob/v6.0/Documentation/ABI/testing/sysfs-bus-pci#L344-L355\n",
      "2023-12-04 11:43:20.041418: I tensorflow/compiler/xla/stream_executor/cuda/cuda_gpu_executor.cc:894] successful NUMA node read from SysFS had negative value (-1), but there must be at least one NUMA node, so returning NUMA node zero. See more at https://github.com/torvalds/linux/blob/v6.0/Documentation/ABI/testing/sysfs-bus-pci#L344-L355\n",
      "2023-12-04 11:43:20.041527: I tensorflow/core/common_runtime/gpu/gpu_device.cc:1886] Created device /job:localhost/replica:0/task:0/device:GPU:0 with 22435 MB memory:  -> device: 0, name: NVIDIA GeForce RTX 3090, pci bus id: 0000:0b:00.0, compute capability: 8.6\n"
     ]
    },
    {
     "data": {
      "application/vnd.jupyter.widget-view+json": {
       "model_id": "2c98474042e14d82bb49826ed7f4e2fd",
       "version_major": 2,
       "version_minor": 0
      },
      "text/plain": [
       "  0%|          | 0/101 [00:00<?, ?it/s]"
      ]
     },
     "metadata": {},
     "output_type": "display_data"
    },
    {
     "name": "stderr",
     "output_type": "stream",
     "text": [
      "2023-12-04 11:43:28.234419: I tensorflow/compiler/xla/service/service.cc:168] XLA service 0x1df24420 initialized for platform CUDA (this does not guarantee that XLA will be used). Devices:\n",
      "2023-12-04 11:43:28.234435: I tensorflow/compiler/xla/service/service.cc:176]   StreamExecutor device (0): NVIDIA GeForce RTX 3090, Compute Capability 8.6\n",
      "2023-12-04 11:43:28.237374: I tensorflow/compiler/mlir/tensorflow/utils/dump_mlir_util.cc:269] disabling MLIR crash reproducer, set env var `MLIR_CRASH_REPRODUCER_DIRECTORY` to enable.\n",
      "2023-12-04 11:43:28.246265: I tensorflow/compiler/xla/stream_executor/cuda/cuda_dnn.cc:442] Loaded cuDNN version 8600\n",
      "2023-12-04 11:43:28.299913: I ./tensorflow/compiler/jit/device_compiler.h:186] Compiled cluster using XLA!  This line is logged at most once for the lifetime of the process.\n"
     ]
    },
    {
     "name": "stdout",
     "output_type": "stream",
     "text": [
      "WARNING:tensorflow:5 out of the last 5 calls to <function _BaseOptimizer._update_step_xla at 0x7f477e613b00> triggered tf.function retracing. Tracing is expensive and the excessive number of tracings could be due to (1) creating @tf.function repeatedly in a loop, (2) passing tensors with different shapes, (3) passing Python objects instead of tensors. For (1), please define your @tf.function outside of the loop. For (2), @tf.function has reduce_retracing=True option that can avoid unnecessary retracing. For (3), please refer to https://www.tensorflow.org/guide/function#controlling_retracing and https://www.tensorflow.org/api_docs/python/tf/function for  more details.\n",
      "tf.Tensor(3.6794248, shape=(), dtype=float32)\n",
      "MSE:3.6381757259368896\n",
      "tf.Tensor(2.593016, shape=(), dtype=float32)\n",
      "MSE:2.7658345699310303\n",
      "tf.Tensor(2.4180946, shape=(), dtype=float32)\n",
      "MSE:2.702401638031006\n",
      "tf.Tensor(2.3359957, shape=(), dtype=float32)\n",
      "MSE:2.6372506618499756\n",
      "tf.Tensor(2.3230011, shape=(), dtype=float32)\n",
      "MSE:2.626047372817993\n",
      "tf.Tensor(2.2549117, shape=(), dtype=float32)\n",
      "MSE:2.6174163818359375\n"
     ]
    }
   ],
   "source": [
    "tag_num = 30\n",
    "lamb = 0.0001\n",
    "random.seed(116)\n",
    "train_interaction, test_interaction = train_test_split(interactions_30, train_size=0.98, random_state=116)\n",
    "model = tagMF(30,lamb,A_i_matrix_30.astype(\"float32\"), average_hours, len(users_kept_30), len(games_w_tags_30))\n",
    "optimizer = tf.keras.optimizers.Adam(0.05)\n",
    "for i in tqdm(range(101)):\n",
    "    obj = trainingStep(model, train_interaction)\n",
    "    if (i%20 == 0):\n",
    "        sampleU,sampleI,sampleR =zip(*test_interaction)\n",
    "        predR = model.predictSample(sampleU,sampleI)\n",
    "        mse_vali = MSE(sampleR,predR)\n",
    "        print(obj)\n",
    "        print(f\"MSE:{mse_vali}\")"
   ]
  },
  {
   "cell_type": "code",
   "execution_count": 18,
   "id": "b9fe93d7-64c2-4e57-8e46-c6d0c18886e0",
   "metadata": {},
   "outputs": [
    {
     "data": {
      "text/plain": [
       "['low-price',\n",
       " 'Indie',\n",
       " 'Action',\n",
       " 'Adventure',\n",
       " 'Casual',\n",
       " 'Simulation',\n",
       " 'Strategy',\n",
       " 'RPG',\n",
       " 'medium-price',\n",
       " 'Free to Play',\n",
       " 'Singleplayer',\n",
       " 'Multiplayer',\n",
       " 'Great Soundtrack',\n",
       " 'Puzzle',\n",
       " 'Early Access',\n",
       " '2D',\n",
       " 'Atmospheric',\n",
       " 'VR',\n",
       " 'Sports',\n",
       " 'Platformer',\n",
       " 'Story Rich',\n",
       " 'Sci-fi',\n",
       " 'Fantasy',\n",
       " 'Horror',\n",
       " 'Open World',\n",
       " 'Difficult',\n",
       " 'Anime',\n",
       " 'Massively Multiplayer',\n",
       " 'Pixel Graphics',\n",
       " 'Co-op']"
      ]
     },
     "execution_count": 18,
     "metadata": {},
     "output_type": "execute_result"
    }
   ],
   "source": [
    "sorted_tags[:30]"
   ]
  },
  {
   "cell_type": "code",
   "execution_count": 19,
   "id": "384f73ba-5a4d-4a44-a7e8-79095995e4a4",
   "metadata": {},
   "outputs": [],
   "source": [
    "#select from tags above, replace index with index of selected tags in sorted_tags\n",
    "Selected_tags = np.zeros(30).astype(\"float32\")\n",
    "Selected_tags[5] = 0.85\n",
    "Selected_tags[6] = 0.95\n",
    "Selected_tags[21] = 1.0"
   ]
  },
  {
   "cell_type": "code",
   "execution_count": null,
   "id": "4beea4c3-28f1-4c41-9a0b-b6f56542ee30",
   "metadata": {},
   "outputs": [],
   "source": [
    "result = []\n",
    "for i in range(len(games_w_tags_30)):\n",
    "    result.append(model.predict_given_user(Selected_tags, i).numpy())"
   ]
  },
  {
   "cell_type": "code",
   "execution_count": null,
   "id": "209c5d58-0b1b-4b43-b09a-95b7b2e9169d",
   "metadata": {},
   "outputs": [],
   "source": [
    "result_sorted = [(x,i) for i,x in enumerate(result)]\n",
    "recommendation = sorted(result_sorted, reverse = True)[:20]\n",
    "for rec in recommendation:\n",
    "    print(f\"https://store.steampowered.com/app/{games_w_tags_30[rec[1]]}   {rec[0]}\")"
   ]
  }
 ],
 "metadata": {
  "kernelspec": {
   "display_name": "Python 3 (ipykernel)",
   "language": "python",
   "name": "python3"
  },
  "language_info": {
   "codemirror_mode": {
    "name": "ipython",
    "version": 3
   },
   "file_extension": ".py",
   "mimetype": "text/x-python",
   "name": "python",
   "nbconvert_exporter": "python",
   "pygments_lexer": "ipython3",
   "version": "3.11.0rc1"
  }
 },
 "nbformat": 4,
 "nbformat_minor": 5
}
