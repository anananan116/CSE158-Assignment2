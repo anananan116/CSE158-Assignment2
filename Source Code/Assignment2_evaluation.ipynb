{
 "cells": [
  {
   "cell_type": "code",
   "execution_count": 1,
   "id": "668cad70-203b-45c2-9e99-cdd802cf62ac",
   "metadata": {},
   "outputs": [
    {
     "name": "stderr",
     "output_type": "stream",
     "text": [
      "2023-12-02 23:51:37.613045: E tensorflow/compiler/xla/stream_executor/cuda/cuda_dnn.cc:9342] Unable to register cuDNN factory: Attempting to register factory for plugin cuDNN when one has already been registered\n",
      "2023-12-02 23:51:37.613068: E tensorflow/compiler/xla/stream_executor/cuda/cuda_fft.cc:609] Unable to register cuFFT factory: Attempting to register factory for plugin cuFFT when one has already been registered\n",
      "2023-12-02 23:51:37.613096: E tensorflow/compiler/xla/stream_executor/cuda/cuda_blas.cc:1518] Unable to register cuBLAS factory: Attempting to register factory for plugin cuBLAS when one has already been registered\n",
      "2023-12-02 23:51:37.618527: I tensorflow/core/platform/cpu_feature_guard.cc:182] This TensorFlow binary is optimized to use available CPU instructions in performance-critical operations.\n",
      "To enable the following instructions: AVX2 FMA, in other operations, rebuild TensorFlow with the appropriate compiler flags.\n"
     ]
    }
   ],
   "source": [
    "import numpy as np\n",
    "import pandas as pd\n",
    "import tensorflow as tf\n",
    "import gzip\n",
    "from collections import defaultdict\n",
    "import math\n",
    "import sklearn\n",
    "from surprise import SVD, Reader, Dataset\n",
    "from surprise.model_selection import train_test_split, GridSearchCV\n",
    "from sklearn.model_selection import train_test_split\n",
    "import matplotlib.pyplot as plt\n",
    "from tqdm.notebook import tqdm\n",
    "import random"
   ]
  },
  {
   "cell_type": "code",
   "execution_count": 2,
   "id": "92ef5165-2f8c-492d-8f3c-9c89787ef585",
   "metadata": {},
   "outputs": [],
   "source": [
    "def readGz(path):\n",
    "    for l in gzip.open(path, 'rt'):\n",
    "        yield eval(l)"
   ]
  },
  {
   "cell_type": "code",
   "execution_count": 3,
   "id": "65bcd3de-c29b-4569-9e77-b13ecaf36feb",
   "metadata": {},
   "outputs": [],
   "source": [
    "game_meta = []\n",
    "users = []"
   ]
  },
  {
   "cell_type": "code",
   "execution_count": 4,
   "id": "53519e6e-8d74-41fa-8ded-772276a6169e",
   "metadata": {},
   "outputs": [],
   "source": [
    "for d in readGz(\"steam_games.json.gz\"):\n",
    "    game_meta.append(d)\n",
    "for d in readGz(\"australian_users_items.json.gz\"):\n",
    "    #remove all user without purchase\n",
    "    if len(d['items']) > 0:\n",
    "        users.append(d)"
   ]
  },
  {
   "cell_type": "code",
   "execution_count": 5,
   "id": "402ebadd-da10-4eb0-8290-11396f212819",
   "metadata": {},
   "outputs": [],
   "source": [
    "def price_to_text(price):\n",
    "    if type(price) == str:\n",
    "        return \"Free to Play\"\n",
    "    price = float(price)\n",
    "    if price<10:\n",
    "        return \"low-price\"\n",
    "    if price<35:\n",
    "        return \"medium-price\"\n",
    "    return \"high-price\""
   ]
  },
  {
   "cell_type": "code",
   "execution_count": 6,
   "id": "7d4d58ba-7612-4a03-81f1-07031a901a78",
   "metadata": {},
   "outputs": [],
   "source": [
    "all_genre_tags = defaultdict(int)\n",
    "game_tags = defaultdict(set)\n",
    "for d in game_meta:\n",
    "    keys = d.keys()\n",
    "    if ('id' not in keys):\n",
    "        #print(d)\n",
    "        if (d['url'] == 'http://store.steampowered.com/app/200260'):\n",
    "            g = 200260\n",
    "        else:\n",
    "            continue\n",
    "    else:\n",
    "        g = d['id']\n",
    "    if 'price' not in keys:\n",
    "        game_tags[g].add('Free to Play')\n",
    "    else:\n",
    "        game_tags[g].add(price_to_text(d['price']))\n",
    "    if ('tags' in keys):      \n",
    "        for tag in d['tags']:\n",
    "            game_tags[g].add(tag)\n",
    "    if ('genres' in keys):\n",
    "        for genre in d['genres']:\n",
    "            game_tags[g].add(genre)\n",
    "    # if ('specs' in keys):\n",
    "    #     for spec in d['specs']:\n",
    "    #         game_tags[g].add(spec)\n",
    "    for tag in game_tags[g]:\n",
    "        all_genre_tags[tag] += 1"
   ]
  },
  {
   "cell_type": "code",
   "execution_count": 58,
   "id": "16ea5232-376c-45cf-acb7-72e30ff7910b",
   "metadata": {},
   "outputs": [
    {
     "name": "stdout",
     "output_type": "stream",
     "text": [
      "{'publisher': 'Grunge Games LTD', 'genres': ['Action', 'Adventure', 'Casual'], 'app_name': 'Blood and Bacon', 'sentiment': 'Overwhelmingly Positive', 'title': 'Blood and Bacon', 'url': 'http://store.steampowered.com/app/434570/Blood_and_Bacon/', 'release_date': '2016-02-01', 'tags': ['Gore', 'Horror', 'Action', 'Funny', 'Multiplayer', 'Shooter', 'FPS', 'Co-op', 'Online Co-Op', 'Casual', 'Memes', 'Blood', 'Adventure', 'First-Person', 'Indie', 'Singleplayer', 'Survival Horror', 'Illuminati', 'Psychological Horror', 'Dating Sim'], 'reviews_url': 'http://steamcommunity.com/app/434570/reviews/?browsefilter=mostrecent&p=1', 'specs': ['Single-player', 'Multi-player', 'Online Multi-Player', 'Co-op', 'Online Co-op', 'Steam Achievements', 'Full controller support', 'Steam Trading Cards', 'Stats', 'Steam Leaderboards'], 'price': 0.99, 'early_access': False, 'id': '434570', 'developer': 'Big Corporation'}\n"
     ]
    }
   ],
   "source": [
    "for d in game_meta:\n",
    "    keys = d.keys()\n",
    "    if ('id' in keys and d['id'] == '434570'):\n",
    "        print(d)"
   ]
  },
  {
   "cell_type": "code",
   "execution_count": 161,
   "id": "ece8937b-96d3-4e13-8e2e-e4db6fcef34c",
   "metadata": {},
   "outputs": [],
   "source": [
    "game_purchased_count = defaultdict(int)\n",
    "for d in users:\n",
    "    items = d['items']\n",
    "    for item in items:\n",
    "        if (item['playtime_forever'] > 60):\n",
    "            game_purchased_count[item['item_id']] += 1"
   ]
  },
  {
   "cell_type": "code",
   "execution_count": 162,
   "id": "3342db2e-06d0-46b9-80d1-6a6a3debe6ee",
   "metadata": {},
   "outputs": [],
   "source": [
    "game_to_keep = set()\n",
    "for g in game_purchased_count:\n",
    "    if (game_purchased_count[g]>100):\n",
    "        game_to_keep.add(g)"
   ]
  },
  {
   "cell_type": "code",
   "execution_count": 163,
   "id": "7371ab85-6454-4941-8dc3-182ce72d1e96",
   "metadata": {},
   "outputs": [
    {
     "data": {
      "text/plain": [
       "1937"
      ]
     },
     "execution_count": 163,
     "metadata": {},
     "output_type": "execute_result"
    }
   ],
   "source": [
    "len(game_to_keep)"
   ]
  },
  {
   "cell_type": "code",
   "execution_count": 164,
   "id": "e0e17d57-12c7-445a-b5b4-06e78fef1037",
   "metadata": {},
   "outputs": [],
   "source": [
    "sorted_tags = sorted(list(all_genre_tags.keys()), key = lambda x: all_genre_tags[x], reverse = True)"
   ]
  },
  {
   "cell_type": "code",
   "execution_count": 165,
   "id": "df3e77f1-e00f-452f-be87-83e1edc36aba",
   "metadata": {},
   "outputs": [],
   "source": [
    "def process_data(all_users, tag_to_keep):\n",
    "    A_i = defaultdict(list)\n",
    "    tags_kept = set(sorted_tags[:tag_to_keep])\n",
    "    tags_kept_l = sorted_tags[:tag_to_keep]\n",
    "    rare_bonus = {k:(lambda x: x*1.0/tag_to_keep*0.6-0.3 if x>tag_to_keep/2 else 0)(i) for i,k in enumerate(tags_kept)}\n",
    "    games_no_tags = []\n",
    "    for g in game_to_keep:\n",
    "        tags = game_tags[g]\n",
    "        tag_list = list(game_tags[g])\n",
    "        new_tags = tags_kept.intersection(tags)\n",
    "        if (len(new_tags) == 0):\n",
    "            #print(\"no tag!!\")\n",
    "            games_no_tags.append(g)\n",
    "            continue\n",
    "        else:\n",
    "            for tag in tags_kept_l:\n",
    "                if tag not in tags:\n",
    "                    A_i[g].append(0)\n",
    "                else:\n",
    "                    #using gamma transformation to transform ranking of tag to 0-1\n",
    "                    relevance = 1-(tag_list.index(tag)*1.0/len(game_tags[g]))**3\n",
    "                    #apply rare bonus\n",
    "                    relevance += rare_bonus[tag]\n",
    "                    if (relevance>1):\n",
    "                        relevance = 1.0\n",
    "                    A_i[g].append(relevance)\n",
    "    games_w_tags = list(A_i.keys())\n",
    "    games_w_tags_set = set(A_i.keys())\n",
    "    interactions = []\n",
    "    users_kept = []\n",
    "    for u in all_users:\n",
    "        num_recorded = 0\n",
    "        for item in u['items']:\n",
    "            if item['item_id'] in games_w_tags_set:\n",
    "                num_recorded += 1\n",
    "        if num_recorded>=10:\n",
    "            users_kept.append(u)\n",
    "    a = 0\n",
    "    above_zero = lambda x: x if x > 0 else 0\n",
    "    for u in tqdm(users_kept):\n",
    "        for item in u['items']:\n",
    "            if item['item_id'] in games_w_tags_set:\n",
    "                if (item['playtime_forever'] > 120):\n",
    "                    interactions.append((a, games_w_tags.index(item['item_id']), above_zero(np.log2(item['playtime_forever']/60))))\n",
    "        a += 1\n",
    "    A_i_matrix = np.zeros((tag_to_keep, len(games_w_tags)))\n",
    "    for a,g in enumerate(games_w_tags):\n",
    "        for b,relevance in enumerate(A_i[g]):\n",
    "            A_i_matrix[b,a] = relevance\n",
    "    return A_i_matrix, interactions, users_kept, games_w_tags"
   ]
  },
  {
   "cell_type": "code",
   "execution_count": 175,
   "id": "ee593108-23f6-452d-a2ed-baf9b42beb1f",
   "metadata": {},
   "outputs": [
    {
     "data": {
      "application/vnd.jupyter.widget-view+json": {
       "model_id": "e441d2b933204475b24e4b023e7ffef6",
       "version_major": 2,
       "version_minor": 0
      },
      "text/plain": [
       "  0%|          | 0/54667 [00:00<?, ?it/s]"
      ]
     },
     "metadata": {},
     "output_type": "display_data"
    }
   ],
   "source": [
    "A_i_matrix_50, interactions_50, users_kept_50, games_w_tags_50 = process_data(users, 50)"
   ]
  },
  {
   "cell_type": "code",
   "execution_count": 176,
   "id": "1af89b00-9c6d-4056-83e2-1e229becee69",
   "metadata": {},
   "outputs": [
    {
     "data": {
      "application/vnd.jupyter.widget-view+json": {
       "model_id": "bb20841e2a194851945b81858d38142c",
       "version_major": 2,
       "version_minor": 0
      },
      "text/plain": [
       "  0%|          | 0/54667 [00:00<?, ?it/s]"
      ]
     },
     "metadata": {},
     "output_type": "display_data"
    }
   ],
   "source": [
    "data_30 = process_data(users, 30)"
   ]
  },
  {
   "cell_type": "code",
   "execution_count": 182,
   "id": "378b57d7-655b-440d-926f-a9cf8c5eba78",
   "metadata": {},
   "outputs": [
    {
     "data": {
      "application/vnd.jupyter.widget-view+json": {
       "model_id": "a1489ac548cf4bf2aac2312ab922f7e9",
       "version_major": 2,
       "version_minor": 0
      },
      "text/plain": [
       "  0%|          | 0/54667 [00:00<?, ?it/s]"
      ]
     },
     "metadata": {},
     "output_type": "display_data"
    }
   ],
   "source": [
    "data_50 = process_data(users, 50)"
   ]
  },
  {
   "cell_type": "code",
   "execution_count": 178,
   "id": "f86b03bf-49e9-4df4-ae3b-a384669657f9",
   "metadata": {},
   "outputs": [
    {
     "data": {
      "application/vnd.jupyter.widget-view+json": {
       "model_id": "7259d47405744f3b8c2621435b4b3bc5",
       "version_major": 2,
       "version_minor": 0
      },
      "text/plain": [
       "  0%|          | 0/54667 [00:00<?, ?it/s]"
      ]
     },
     "metadata": {},
     "output_type": "display_data"
    }
   ],
   "source": [
    "data_100 = process_data(users, 100)"
   ]
  },
  {
   "cell_type": "code",
   "execution_count": 64,
   "id": "84947e5d-bf62-4a35-b3f0-e012fe91c3b7",
   "metadata": {},
   "outputs": [
    {
     "data": {
      "text/plain": [
       "3.709715928702185"
      ]
     },
     "execution_count": 64,
     "metadata": {},
     "output_type": "execute_result"
    }
   ],
   "source": [
    "average_hours = float(sum([d[2] for d in interactions_50])*1.0/len(interactions_50))"
   ]
  },
  {
   "cell_type": "code",
   "execution_count": 185,
   "id": "8920f238-2ed2-4fc8-8957-c81587b9dbe6",
   "metadata": {},
   "outputs": [],
   "source": [
    "class tagMF(tf.keras.Model):\n",
    "    def __init__(self, F, lamb, A_i, mu, U, I):\n",
    "        super(tagMF, self).__init__()\n",
    "        self.alpha = tf.Variable(mu)\n",
    "        self.P = tf.Variable(tf.random.normal([U,F],stddev=0.001)) #User factors, R^(U, F)\n",
    "        self.Theta_i = tf.Variable(tf.random.normal([len(A_i),F],stddev=0.001)) #tag to factors, R^(T, F)\n",
    "        self.A_i = tf.constant(A_i) #Item-tag relevance, R^(I, T)\n",
    "        self.betaU = tf.Variable(tf.random.normal([U],stddev=0.001))\n",
    "        self.betaI = tf.Variable(tf.random.normal([I],stddev=0.001))\n",
    "        self.lamb = lamb\n",
    "        self.F = F\n",
    "\n",
    "    # Prediction for a single instance (useful for evaluation)\n",
    "    def predict(self, u, i):\n",
    "        p_u = tf.reshape(self.P[u], [1, -1])\n",
    "        p = tf.linalg.matmul(p_u, tf.transpose(self.Theta_i))\n",
    "        p = tf.squeeze(p)\n",
    "        final_result = tf.reduce_sum(tf.multiply(p, self.A_i[:,i]))\n",
    "        print(final_result)\n",
    "        return self.alpha + self.betaU[u] + self.betaI[i] + final_result\n",
    "        \n",
    "    def predict_given_user(self, u, i):\n",
    "        p_u = tf.reshape(tf.constant(u), [1, -1])\n",
    "        p = tf.linalg.matmul(p_u, self.Theta_i)\n",
    "        p = tf.squeeze(p)\n",
    "        Theta_Ai = tf.linalg.matmul(tf.transpose(self.Theta_i), tf.reshape(self.A_i[:,i], [-1, 1]))\n",
    "        Theta_Ai = tf.squeeze(Theta_Ai)\n",
    "        final_result = tf.reduce_sum(tf.multiply(p, Theta_Ai))\n",
    "        return final_result\n",
    "        \n",
    "    # Regularizer\n",
    "    def reg(self):\n",
    "        return self.lamb * (tf.reduce_sum(self.P**2) + tf.reduce_sum(self.Theta_i**2) + tf.reduce_sum(self.betaU**2) + tf.reduce_sum(self.betaI**2))\n",
    "    \n",
    "    # Prediction for a sample of instances\n",
    "    def predictSample(self, sampleU, sampleI):\n",
    "        u = tf.convert_to_tensor(sampleU, dtype=tf.int32)\n",
    "        i = tf.convert_to_tensor(sampleI, dtype=tf.int32)\n",
    "        beta_u = tf.nn.embedding_lookup(self.betaU, u)\n",
    "        beta_i = tf.nn.embedding_lookup(self.betaI, i)\n",
    "        p_u = tf.transpose(tf.nn.embedding_lookup(self.P, u))\n",
    "        A = tf.gather(self.A_i, indices=i, axis=1)\n",
    "        i_factors = tf.linalg.matmul(tf.transpose(self.Theta_i), A)\n",
    "        pred = tf.reduce_sum(tf.multiply(p_u, i_factors),0)\n",
    "        return self.alpha + beta_u + beta_i + pred\n",
    "    \n",
    "    # Loss\n",
    "    def call(self, sampleU, sampleI, sampleR):\n",
    "        pred = self.predictSample(sampleU, sampleI)\n",
    "        r = tf.convert_to_tensor(sampleR, dtype=tf.float32)\n",
    "        squared_diff = tf.square(pred - r)\n",
    "        mse_loss = tf.reduce_mean(squared_diff)\n",
    "        \n",
    "        return mse_loss"
   ]
  },
  {
   "cell_type": "code",
   "execution_count": 186,
   "id": "499954c3-cc0b-4194-afcd-daef38dcb7e9",
   "metadata": {},
   "outputs": [],
   "source": [
    "def trainingStep(model, interactions):\n",
    "    Nsamples = 50000\n",
    "    reg = 0\n",
    "    with tf.GradientTape() as tape:\n",
    "        sampleU,sampleI,sampleR = zip(*random.sample(interactions, Nsamples))\n",
    "        loss = model(sampleU,sampleI,sampleR)\n",
    "        reg = model.reg()\n",
    "        loss += reg\n",
    "    gradients = tape.gradient(loss, model.trainable_variables)\n",
    "    optimizer.apply_gradients((grad, var) for\n",
    "                              (grad, var) in zip(gradients, model.trainable_variables)\n",
    "                              if grad is not None)\n",
    "    return loss.numpy()-reg"
   ]
  },
  {
   "cell_type": "code",
   "execution_count": 187,
   "id": "41f520a7-397c-4e19-9b60-a893fcfa4af5",
   "metadata": {},
   "outputs": [],
   "source": [
    "def MSE(y, ypred):\n",
    "            return sum((yt - yp) ** 2 for yt, yp in zip(y, ypred)) / len(y)"
   ]
  },
  {
   "cell_type": "code",
   "execution_count": 219,
   "id": "14c8878d-d57a-417d-b74d-6f732742f438",
   "metadata": {},
   "outputs": [
    {
     "data": {
      "application/vnd.jupyter.widget-view+json": {
       "model_id": "b2cf8c223b1d49e39c15002b26d06f64",
       "version_major": 2,
       "version_minor": 0
      },
      "text/plain": [
       "0it [00:00, ?it/s]"
      ]
     },
     "metadata": {},
     "output_type": "display_data"
    },
    {
     "data": {
      "application/vnd.jupyter.widget-view+json": {
       "model_id": "067500100efe4584bf2458145a01490f",
       "version_major": 2,
       "version_minor": 0
      },
      "text/plain": [
       "  0%|          | 0/101 [00:00<?, ?it/s]"
      ]
     },
     "metadata": {},
     "output_type": "display_data"
    },
    {
     "name": "stdout",
     "output_type": "stream",
     "text": [
      "tf.Tensor(3.7328007, shape=(), dtype=float32)\n",
      "MSE:3.6267588138580322\n",
      "tf.Tensor(2.6074855, shape=(), dtype=float32)\n",
      "MSE:2.7972404956817627\n",
      "tf.Tensor(2.4230843, shape=(), dtype=float32)\n",
      "MSE:2.7243428230285645\n",
      "tf.Tensor(2.3814702, shape=(), dtype=float32)\n",
      "MSE:2.7237277030944824\n",
      "tf.Tensor(2.3369083, shape=(), dtype=float32)\n",
      "MSE:2.6769425868988037\n",
      "tf.Tensor(2.253818, shape=(), dtype=float32)\n",
      "MSE:2.6627514362335205\n"
     ]
    },
    {
     "data": {
      "application/vnd.jupyter.widget-view+json": {
       "model_id": "a0f74eec29d643c9b131f8ea8ba6ed80",
       "version_major": 2,
       "version_minor": 0
      },
      "text/plain": [
       "  0%|          | 0/101 [00:00<?, ?it/s]"
      ]
     },
     "metadata": {},
     "output_type": "display_data"
    },
    {
     "name": "stdout",
     "output_type": "stream",
     "text": [
      "tf.Tensor(3.7646694, shape=(), dtype=float32)\n",
      "MSE:3.592909097671509\n",
      "tf.Tensor(2.6057355, shape=(), dtype=float32)\n",
      "MSE:2.757385730743408\n",
      "tf.Tensor(2.4046195, shape=(), dtype=float32)\n",
      "MSE:2.664794445037842\n",
      "tf.Tensor(2.380111, shape=(), dtype=float32)\n",
      "MSE:2.671818971633911\n",
      "tf.Tensor(2.3146524, shape=(), dtype=float32)\n",
      "MSE:2.6569418907165527\n",
      "tf.Tensor(2.2915025, shape=(), dtype=float32)\n",
      "MSE:2.646397829055786\n"
     ]
    },
    {
     "data": {
      "application/vnd.jupyter.widget-view+json": {
       "model_id": "c907a6b3b3c941ee8996eb371d4775a5",
       "version_major": 2,
       "version_minor": 0
      },
      "text/plain": [
       "  0%|          | 0/101 [00:00<?, ?it/s]"
      ]
     },
     "metadata": {},
     "output_type": "display_data"
    },
    {
     "name": "stdout",
     "output_type": "stream",
     "text": [
      "tf.Tensor(3.764577, shape=(), dtype=float32)\n",
      "MSE:3.593130111694336\n",
      "tf.Tensor(2.6182513, shape=(), dtype=float32)\n",
      "MSE:2.7870569229125977\n",
      "tf.Tensor(2.399027, shape=(), dtype=float32)\n",
      "MSE:2.6333463191986084\n",
      "tf.Tensor(2.360971, shape=(), dtype=float32)\n",
      "MSE:2.6798272132873535\n",
      "tf.Tensor(2.3106236, shape=(), dtype=float32)\n",
      "MSE:2.6383259296417236\n",
      "tf.Tensor(2.2845, shape=(), dtype=float32)\n",
      "MSE:2.6303231716156006\n"
     ]
    },
    {
     "data": {
      "application/vnd.jupyter.widget-view+json": {
       "model_id": "a328f086943441cf953b89966b8943bf",
       "version_major": 2,
       "version_minor": 0
      },
      "text/plain": [
       "  0%|          | 0/101 [00:00<?, ?it/s]"
      ]
     },
     "metadata": {},
     "output_type": "display_data"
    },
    {
     "name": "stdout",
     "output_type": "stream",
     "text": [
      "tf.Tensor(3.76533, shape=(), dtype=float32)\n",
      "MSE:3.593735933303833\n",
      "tf.Tensor(2.6026301, shape=(), dtype=float32)\n",
      "MSE:2.7563982009887695\n",
      "tf.Tensor(2.4080615, shape=(), dtype=float32)\n",
      "MSE:2.6672816276550293\n",
      "tf.Tensor(2.3581955, shape=(), dtype=float32)\n",
      "MSE:2.660606622695923\n",
      "tf.Tensor(2.3056617, shape=(), dtype=float32)\n",
      "MSE:2.6333460807800293\n",
      "tf.Tensor(2.2995396, shape=(), dtype=float32)\n",
      "MSE:2.637145519256592\n"
     ]
    },
    {
     "data": {
      "application/vnd.jupyter.widget-view+json": {
       "model_id": "9fa5ef700d1e4ee895cea02a7bcf49f0",
       "version_major": 2,
       "version_minor": 0
      },
      "text/plain": [
       "  0%|          | 0/101 [00:00<?, ?it/s]"
      ]
     },
     "metadata": {},
     "output_type": "display_data"
    },
    {
     "name": "stdout",
     "output_type": "stream",
     "text": [
      "tf.Tensor(3.7650619, shape=(), dtype=float32)\n",
      "MSE:3.592020273208618\n",
      "tf.Tensor(2.6101115, shape=(), dtype=float32)\n",
      "MSE:2.768894672393799\n",
      "tf.Tensor(2.4057877, shape=(), dtype=float32)\n",
      "MSE:2.6670405864715576\n",
      "tf.Tensor(2.331654, shape=(), dtype=float32)\n",
      "MSE:2.663409471511841\n",
      "tf.Tensor(2.3127096, shape=(), dtype=float32)\n",
      "MSE:2.6465749740600586\n",
      "tf.Tensor(2.2825336, shape=(), dtype=float32)\n",
      "MSE:2.6231117248535156\n"
     ]
    },
    {
     "data": {
      "application/vnd.jupyter.widget-view+json": {
       "model_id": "5bf5b0933e8e4a8e8332a215dd1ad509",
       "version_major": 2,
       "version_minor": 0
      },
      "text/plain": [
       "  0%|          | 0/101 [00:00<?, ?it/s]"
      ]
     },
     "metadata": {},
     "output_type": "display_data"
    },
    {
     "name": "stdout",
     "output_type": "stream",
     "text": [
      "tf.Tensor(3.7645094, shape=(), dtype=float32)\n",
      "MSE:3.59245228767395\n",
      "tf.Tensor(2.6118317, shape=(), dtype=float32)\n",
      "MSE:2.7865707874298096\n",
      "tf.Tensor(2.3871527, shape=(), dtype=float32)\n",
      "MSE:2.629826784133911\n",
      "tf.Tensor(2.359726, shape=(), dtype=float32)\n",
      "MSE:2.6856489181518555\n",
      "tf.Tensor(2.3162863, shape=(), dtype=float32)\n",
      "MSE:2.6521530151367188\n",
      "tf.Tensor(2.2870712, shape=(), dtype=float32)\n",
      "MSE:2.6269736289978027\n"
     ]
    },
    {
     "data": {
      "application/vnd.jupyter.widget-view+json": {
       "model_id": "e8626f9837a64245b02761588bda7af2",
       "version_major": 2,
       "version_minor": 0
      },
      "text/plain": [
       "  0%|          | 0/101 [00:00<?, ?it/s]"
      ]
     },
     "metadata": {},
     "output_type": "display_data"
    },
    {
     "name": "stdout",
     "output_type": "stream",
     "text": [
      "tf.Tensor(3.7646694, shape=(), dtype=float32)\n",
      "MSE:3.5923409461975098\n",
      "tf.Tensor(2.617597, shape=(), dtype=float32)\n",
      "MSE:2.762906074523926\n",
      "tf.Tensor(2.4053788, shape=(), dtype=float32)\n",
      "MSE:2.6400954723358154\n",
      "tf.Tensor(2.350696, shape=(), dtype=float32)\n",
      "MSE:2.6621971130371094\n",
      "tf.Tensor(2.3219175, shape=(), dtype=float32)\n",
      "MSE:2.6477935314178467\n",
      "tf.Tensor(2.2916613, shape=(), dtype=float32)\n",
      "MSE:2.623432159423828\n"
     ]
    },
    {
     "data": {
      "application/vnd.jupyter.widget-view+json": {
       "model_id": "140b93cebafb4f718219d8745406442c",
       "version_major": 2,
       "version_minor": 0
      },
      "text/plain": [
       "  0%|          | 0/101 [00:00<?, ?it/s]"
      ]
     },
     "metadata": {},
     "output_type": "display_data"
    },
    {
     "name": "stdout",
     "output_type": "stream",
     "text": [
      "tf.Tensor(3.7647088, shape=(), dtype=float32)\n",
      "MSE:3.5924506187438965\n",
      "tf.Tensor(2.6113048, shape=(), dtype=float32)\n",
      "MSE:2.765394449234009\n",
      "tf.Tensor(2.4096794, shape=(), dtype=float32)\n",
      "MSE:2.6816275119781494\n",
      "tf.Tensor(2.3589883, shape=(), dtype=float32)\n",
      "MSE:2.660212993621826\n",
      "tf.Tensor(2.3264105, shape=(), dtype=float32)\n",
      "MSE:2.6340572834014893\n",
      "tf.Tensor(2.2940426, shape=(), dtype=float32)\n",
      "MSE:2.6298391819000244\n"
     ]
    },
    {
     "data": {
      "application/vnd.jupyter.widget-view+json": {
       "model_id": "1cf83e29ca274389baa7a497772127d2",
       "version_major": 2,
       "version_minor": 0
      },
      "text/plain": [
       "  0%|          | 0/101 [00:00<?, ?it/s]"
      ]
     },
     "metadata": {},
     "output_type": "display_data"
    },
    {
     "name": "stdout",
     "output_type": "stream",
     "text": [
      "tf.Tensor(3.7647512, shape=(), dtype=float32)\n",
      "MSE:3.5925827026367188\n",
      "tf.Tensor(2.6170049, shape=(), dtype=float32)\n",
      "MSE:2.773918867111206\n",
      "tf.Tensor(2.4057221, shape=(), dtype=float32)\n",
      "MSE:2.655264377593994\n",
      "tf.Tensor(2.3590746, shape=(), dtype=float32)\n",
      "MSE:2.6605639457702637\n",
      "tf.Tensor(2.3296406, shape=(), dtype=float32)\n",
      "MSE:2.6644680500030518\n",
      "tf.Tensor(2.2885625, shape=(), dtype=float32)\n",
      "MSE:2.611952781677246\n"
     ]
    },
    {
     "data": {
      "application/vnd.jupyter.widget-view+json": {
       "model_id": "5bddbe53bb9b4a73a656ef10640b4ae1",
       "version_major": 2,
       "version_minor": 0
      },
      "text/plain": [
       "  0%|          | 0/101 [00:00<?, ?it/s]"
      ]
     },
     "metadata": {},
     "output_type": "display_data"
    },
    {
     "name": "stdout",
     "output_type": "stream",
     "text": [
      "tf.Tensor(3.7643611, shape=(), dtype=float32)\n",
      "MSE:3.5922610759735107\n",
      "tf.Tensor(2.6076858, shape=(), dtype=float32)\n",
      "MSE:2.753920793533325\n",
      "tf.Tensor(2.410413, shape=(), dtype=float32)\n",
      "MSE:2.6676533222198486\n",
      "tf.Tensor(2.3498626, shape=(), dtype=float32)\n",
      "MSE:2.6643874645233154\n",
      "tf.Tensor(2.3079126, shape=(), dtype=float32)\n",
      "MSE:2.6461105346679688\n",
      "tf.Tensor(2.3122654, shape=(), dtype=float32)\n",
      "MSE:2.630028247833252\n"
     ]
    },
    {
     "data": {
      "application/vnd.jupyter.widget-view+json": {
       "model_id": "4bf48cd413174f3582471e6694a86a43",
       "version_major": 2,
       "version_minor": 0
      },
      "text/plain": [
       "  0%|          | 0/101 [00:00<?, ?it/s]"
      ]
     },
     "metadata": {},
     "output_type": "display_data"
    },
    {
     "name": "stdout",
     "output_type": "stream",
     "text": [
      "tf.Tensor(3.7646139, shape=(), dtype=float32)\n",
      "MSE:3.593430757522583\n",
      "tf.Tensor(2.6081996, shape=(), dtype=float32)\n",
      "MSE:2.7601633071899414\n",
      "tf.Tensor(2.4015589, shape=(), dtype=float32)\n",
      "MSE:2.6671361923217773\n",
      "tf.Tensor(2.3596663, shape=(), dtype=float32)\n",
      "MSE:2.6526763439178467\n",
      "tf.Tensor(2.3201494, shape=(), dtype=float32)\n",
      "MSE:2.655491352081299\n",
      "tf.Tensor(2.2995756, shape=(), dtype=float32)\n",
      "MSE:2.631192445755005\n"
     ]
    },
    {
     "data": {
      "application/vnd.jupyter.widget-view+json": {
       "model_id": "0d6da6f7fceb4678b6e3c90d86d0b9df",
       "version_major": 2,
       "version_minor": 0
      },
      "text/plain": [
       "  0%|          | 0/101 [00:00<?, ?it/s]"
      ]
     },
     "metadata": {},
     "output_type": "display_data"
    },
    {
     "name": "stdout",
     "output_type": "stream",
     "text": [
      "tf.Tensor(3.7646163, shape=(), dtype=float32)\n",
      "MSE:3.5923728942871094\n",
      "tf.Tensor(2.6224344, shape=(), dtype=float32)\n",
      "MSE:2.767639636993408\n",
      "tf.Tensor(2.3956115, shape=(), dtype=float32)\n",
      "MSE:2.658320426940918\n",
      "tf.Tensor(2.3381975, shape=(), dtype=float32)\n",
      "MSE:2.6547069549560547\n",
      "tf.Tensor(2.3102214, shape=(), dtype=float32)\n",
      "MSE:2.6519768238067627\n",
      "tf.Tensor(2.2817812, shape=(), dtype=float32)\n",
      "MSE:2.622302532196045\n"
     ]
    },
    {
     "data": {
      "application/vnd.jupyter.widget-view+json": {
       "model_id": "3fa50cdcc49f41ed8ee7f0f6e59d6de1",
       "version_major": 2,
       "version_minor": 0
      },
      "text/plain": [
       "  0%|          | 0/101 [00:00<?, ?it/s]"
      ]
     },
     "metadata": {},
     "output_type": "display_data"
    },
    {
     "name": "stdout",
     "output_type": "stream",
     "text": [
      "tf.Tensor(3.7645774, shape=(), dtype=float32)\n",
      "MSE:3.591693639755249\n",
      "tf.Tensor(2.6006844, shape=(), dtype=float32)\n",
      "MSE:2.779758930206299\n",
      "tf.Tensor(2.3928568, shape=(), dtype=float32)\n",
      "MSE:2.6745030879974365\n",
      "tf.Tensor(2.3380284, shape=(), dtype=float32)\n",
      "MSE:2.6588492393493652\n",
      "tf.Tensor(2.292012, shape=(), dtype=float32)\n",
      "MSE:2.6331310272216797\n",
      "tf.Tensor(2.268228, shape=(), dtype=float32)\n",
      "MSE:2.620586395263672\n"
     ]
    },
    {
     "data": {
      "application/vnd.jupyter.widget-view+json": {
       "model_id": "b28c7eab3bcf4fa693db3fb4c184edf9",
       "version_major": 2,
       "version_minor": 0
      },
      "text/plain": [
       "  0%|          | 0/101 [00:00<?, ?it/s]"
      ]
     },
     "metadata": {},
     "output_type": "display_data"
    },
    {
     "name": "stdout",
     "output_type": "stream",
     "text": [
      "tf.Tensor(3.7644768, shape=(), dtype=float32)\n",
      "MSE:3.593095064163208\n",
      "tf.Tensor(2.5915518, shape=(), dtype=float32)\n",
      "MSE:2.77178692817688\n",
      "tf.Tensor(2.3900104, shape=(), dtype=float32)\n",
      "MSE:2.6753475666046143\n",
      "tf.Tensor(2.3616374, shape=(), dtype=float32)\n",
      "MSE:2.658418893814087\n",
      "tf.Tensor(2.2999487, shape=(), dtype=float32)\n",
      "MSE:2.6486337184906006\n",
      "tf.Tensor(2.2828832, shape=(), dtype=float32)\n",
      "MSE:2.631373643875122\n"
     ]
    },
    {
     "data": {
      "application/vnd.jupyter.widget-view+json": {
       "model_id": "a1d239b1714147bc9f28a1c7b88d6c53",
       "version_major": 2,
       "version_minor": 0
      },
      "text/plain": [
       "  0%|          | 0/101 [00:00<?, ?it/s]"
      ]
     },
     "metadata": {},
     "output_type": "display_data"
    },
    {
     "name": "stdout",
     "output_type": "stream",
     "text": [
      "tf.Tensor(3.7650468, shape=(), dtype=float32)\n",
      "MSE:3.591951847076416\n",
      "tf.Tensor(2.6222832, shape=(), dtype=float32)\n",
      "MSE:2.7596487998962402\n",
      "tf.Tensor(2.4254935, shape=(), dtype=float32)\n",
      "MSE:2.645437717437744\n",
      "tf.Tensor(2.382012, shape=(), dtype=float32)\n",
      "MSE:2.683544397354126\n",
      "tf.Tensor(2.3335788, shape=(), dtype=float32)\n",
      "MSE:2.6328420639038086\n",
      "tf.Tensor(2.3067904, shape=(), dtype=float32)\n",
      "MSE:2.629204511642456\n"
     ]
    },
    {
     "data": {
      "application/vnd.jupyter.widget-view+json": {
       "model_id": "5c2c74f6ea314cb28fd6cb03ea73c425",
       "version_major": 2,
       "version_minor": 0
      },
      "text/plain": [
       "  0%|          | 0/101 [00:00<?, ?it/s]"
      ]
     },
     "metadata": {},
     "output_type": "display_data"
    },
    {
     "name": "stdout",
     "output_type": "stream",
     "text": [
      "tf.Tensor(3.764888, shape=(), dtype=float32)\n",
      "MSE:3.593449831008911\n",
      "tf.Tensor(2.6124928, shape=(), dtype=float32)\n",
      "MSE:2.7646687030792236\n",
      "tf.Tensor(2.396722, shape=(), dtype=float32)\n",
      "MSE:2.6695611476898193\n",
      "tf.Tensor(2.3515737, shape=(), dtype=float32)\n",
      "MSE:2.674421787261963\n",
      "tf.Tensor(2.3032408, shape=(), dtype=float32)\n",
      "MSE:2.633857488632202\n",
      "tf.Tensor(2.28922, shape=(), dtype=float32)\n",
      "MSE:2.630079746246338\n"
     ]
    },
    {
     "data": {
      "application/vnd.jupyter.widget-view+json": {
       "model_id": "1bdb14741dad49c5afcd48653f573dee",
       "version_major": 2,
       "version_minor": 0
      },
      "text/plain": [
       "  0%|          | 0/101 [00:00<?, ?it/s]"
      ]
     },
     "metadata": {},
     "output_type": "display_data"
    },
    {
     "name": "stdout",
     "output_type": "stream",
     "text": [
      "tf.Tensor(3.7647629, shape=(), dtype=float32)\n",
      "MSE:3.5922493934631348\n",
      "tf.Tensor(2.6132407, shape=(), dtype=float32)\n",
      "MSE:2.7760138511657715\n",
      "tf.Tensor(2.4035387, shape=(), dtype=float32)\n",
      "MSE:2.665555000305176\n",
      "tf.Tensor(2.3565025, shape=(), dtype=float32)\n",
      "MSE:2.663806438446045\n",
      "tf.Tensor(2.3210995, shape=(), dtype=float32)\n",
      "MSE:2.6519196033477783\n",
      "tf.Tensor(2.284769, shape=(), dtype=float32)\n",
      "MSE:2.6321511268615723\n"
     ]
    },
    {
     "data": {
      "application/vnd.jupyter.widget-view+json": {
       "model_id": "8873718ab6a647429895cd61f32e3f72",
       "version_major": 2,
       "version_minor": 0
      },
      "text/plain": [
       "  0%|          | 0/101 [00:00<?, ?it/s]"
      ]
     },
     "metadata": {},
     "output_type": "display_data"
    },
    {
     "name": "stdout",
     "output_type": "stream",
     "text": [
      "tf.Tensor(3.764786, shape=(), dtype=float32)\n",
      "MSE:3.5927486419677734\n",
      "tf.Tensor(2.6092768, shape=(), dtype=float32)\n",
      "MSE:2.7788469791412354\n",
      "tf.Tensor(2.4073544, shape=(), dtype=float32)\n",
      "MSE:2.653404951095581\n",
      "tf.Tensor(2.3665109, shape=(), dtype=float32)\n",
      "MSE:2.6770944595336914\n",
      "tf.Tensor(2.317564, shape=(), dtype=float32)\n",
      "MSE:2.6541898250579834\n",
      "tf.Tensor(2.2852879, shape=(), dtype=float32)\n",
      "MSE:2.623913526535034\n"
     ]
    },
    {
     "data": {
      "application/vnd.jupyter.widget-view+json": {
       "model_id": "abefd7f29b1940209669dd3d8d607577",
       "version_major": 2,
       "version_minor": 0
      },
      "text/plain": [
       "  0%|          | 0/101 [00:00<?, ?it/s]"
      ]
     },
     "metadata": {},
     "output_type": "display_data"
    },
    {
     "name": "stdout",
     "output_type": "stream",
     "text": [
      "tf.Tensor(3.7651043, shape=(), dtype=float32)\n",
      "MSE:3.591614007949829\n",
      "tf.Tensor(2.6151915, shape=(), dtype=float32)\n",
      "MSE:2.775085926055908\n",
      "tf.Tensor(2.4109993, shape=(), dtype=float32)\n",
      "MSE:2.657844066619873\n",
      "tf.Tensor(2.3586383, shape=(), dtype=float32)\n",
      "MSE:2.6621627807617188\n",
      "tf.Tensor(2.3341079, shape=(), dtype=float32)\n",
      "MSE:2.6671860218048096\n",
      "tf.Tensor(2.2869122, shape=(), dtype=float32)\n",
      "MSE:2.619922637939453\n"
     ]
    },
    {
     "data": {
      "application/vnd.jupyter.widget-view+json": {
       "model_id": "ff5389218eee4c22bec66fe854f202ce",
       "version_major": 2,
       "version_minor": 0
      },
      "text/plain": [
       "  0%|          | 0/101 [00:00<?, ?it/s]"
      ]
     },
     "metadata": {},
     "output_type": "display_data"
    },
    {
     "name": "stdout",
     "output_type": "stream",
     "text": [
      "tf.Tensor(3.7641025, shape=(), dtype=float32)\n",
      "MSE:3.5932209491729736\n",
      "tf.Tensor(2.6005113, shape=(), dtype=float32)\n",
      "MSE:2.777994394302368\n",
      "tf.Tensor(2.3920846, shape=(), dtype=float32)\n",
      "MSE:2.677342414855957\n",
      "tf.Tensor(2.3501635, shape=(), dtype=float32)\n",
      "MSE:2.673720359802246\n",
      "tf.Tensor(2.3192186, shape=(), dtype=float32)\n",
      "MSE:2.6598687171936035\n",
      "tf.Tensor(2.2934685, shape=(), dtype=float32)\n",
      "MSE:2.6323699951171875\n"
     ]
    },
    {
     "data": {
      "application/vnd.jupyter.widget-view+json": {
       "model_id": "cabdbb7daf074eb0b1ffcdb6867044b8",
       "version_major": 2,
       "version_minor": 0
      },
      "text/plain": [
       "  0%|          | 0/101 [00:00<?, ?it/s]"
      ]
     },
     "metadata": {},
     "output_type": "display_data"
    },
    {
     "name": "stdout",
     "output_type": "stream",
     "text": [
      "tf.Tensor(3.7647202, shape=(), dtype=float32)\n",
      "MSE:3.591830015182495\n",
      "tf.Tensor(2.5550792, shape=(), dtype=float32)\n",
      "MSE:2.7579150199890137\n",
      "tf.Tensor(2.3324246, shape=(), dtype=float32)\n",
      "MSE:2.6722445487976074\n",
      "tf.Tensor(2.282251, shape=(), dtype=float32)\n",
      "MSE:2.657935857772827\n",
      "tf.Tensor(2.2217693, shape=(), dtype=float32)\n",
      "MSE:2.648097515106201\n",
      "tf.Tensor(2.2200377, shape=(), dtype=float32)\n",
      "MSE:2.6211607456207275\n"
     ]
    },
    {
     "data": {
      "application/vnd.jupyter.widget-view+json": {
       "model_id": "158eb6d05abd4cd88237012632dc7ff0",
       "version_major": 2,
       "version_minor": 0
      },
      "text/plain": [
       "  0%|          | 0/101 [00:00<?, ?it/s]"
      ]
     },
     "metadata": {},
     "output_type": "display_data"
    },
    {
     "name": "stdout",
     "output_type": "stream",
     "text": [
      "tf.Tensor(3.764595, shape=(), dtype=float32)\n",
      "MSE:3.592867374420166\n",
      "tf.Tensor(2.578441, shape=(), dtype=float32)\n",
      "MSE:2.7484383583068848\n",
      "tf.Tensor(2.357713, shape=(), dtype=float32)\n",
      "MSE:2.6802282333374023\n",
      "tf.Tensor(2.319665, shape=(), dtype=float32)\n",
      "MSE:2.681917905807495\n",
      "tf.Tensor(2.2575302, shape=(), dtype=float32)\n",
      "MSE:2.642000436782837\n",
      "tf.Tensor(2.2310152, shape=(), dtype=float32)\n",
      "MSE:2.6208062171936035\n"
     ]
    },
    {
     "data": {
      "application/vnd.jupyter.widget-view+json": {
       "model_id": "275f57b0e18a48049173f92b1caec44c",
       "version_major": 2,
       "version_minor": 0
      },
      "text/plain": [
       "  0%|          | 0/101 [00:00<?, ?it/s]"
      ]
     },
     "metadata": {},
     "output_type": "display_data"
    },
    {
     "name": "stdout",
     "output_type": "stream",
     "text": [
      "tf.Tensor(3.7650487, shape=(), dtype=float32)\n",
      "MSE:3.5935094356536865\n",
      "tf.Tensor(2.5651064, shape=(), dtype=float32)\n",
      "MSE:2.7661900520324707\n",
      "tf.Tensor(2.3531747, shape=(), dtype=float32)\n",
      "MSE:2.670732259750366\n",
      "tf.Tensor(2.3089921, shape=(), dtype=float32)\n",
      "MSE:2.6758790016174316\n",
      "tf.Tensor(2.255805, shape=(), dtype=float32)\n",
      "MSE:2.6533288955688477\n",
      "tf.Tensor(2.23116, shape=(), dtype=float32)\n",
      "MSE:2.6260781288146973\n"
     ]
    },
    {
     "data": {
      "application/vnd.jupyter.widget-view+json": {
       "model_id": "31e1e20620974dd98cc3fb78584223ca",
       "version_major": 2,
       "version_minor": 0
      },
      "text/plain": [
       "  0%|          | 0/101 [00:00<?, ?it/s]"
      ]
     },
     "metadata": {},
     "output_type": "display_data"
    },
    {
     "name": "stdout",
     "output_type": "stream",
     "text": [
      "tf.Tensor(3.7646062, shape=(), dtype=float32)\n",
      "MSE:3.593325614929199\n",
      "tf.Tensor(2.5585618, shape=(), dtype=float32)\n",
      "MSE:2.781174898147583\n",
      "tf.Tensor(2.3694456, shape=(), dtype=float32)\n",
      "MSE:2.6867387294769287\n",
      "tf.Tensor(2.2939863, shape=(), dtype=float32)\n",
      "MSE:2.6510677337646484\n",
      "tf.Tensor(2.2552068, shape=(), dtype=float32)\n",
      "MSE:2.646906614303589\n",
      "tf.Tensor(2.224507, shape=(), dtype=float32)\n",
      "MSE:2.6209516525268555\n"
     ]
    },
    {
     "data": {
      "application/vnd.jupyter.widget-view+json": {
       "model_id": "007e5785867f4971aa586136b1d12d52",
       "version_major": 2,
       "version_minor": 0
      },
      "text/plain": [
       "  0%|          | 0/101 [00:00<?, ?it/s]"
      ]
     },
     "metadata": {},
     "output_type": "display_data"
    },
    {
     "name": "stdout",
     "output_type": "stream",
     "text": [
      "tf.Tensor(3.7643497, shape=(), dtype=float32)\n",
      "MSE:3.5904126167297363\n",
      "tf.Tensor(2.5515497, shape=(), dtype=float32)\n",
      "MSE:2.7748043537139893\n",
      "tf.Tensor(2.336224, shape=(), dtype=float32)\n",
      "MSE:2.695984363555908\n",
      "tf.Tensor(2.2866745, shape=(), dtype=float32)\n",
      "MSE:2.6626241207122803\n",
      "tf.Tensor(2.232925, shape=(), dtype=float32)\n",
      "MSE:2.6428091526031494\n",
      "tf.Tensor(2.221038, shape=(), dtype=float32)\n",
      "MSE:2.613889694213867\n"
     ]
    },
    {
     "data": {
      "application/vnd.jupyter.widget-view+json": {
       "model_id": "96b5e7eb51f14b9796b2d847cf1383d6",
       "version_major": 2,
       "version_minor": 0
      },
      "text/plain": [
       "  0%|          | 0/101 [00:00<?, ?it/s]"
      ]
     },
     "metadata": {},
     "output_type": "display_data"
    },
    {
     "name": "stdout",
     "output_type": "stream",
     "text": [
      "tf.Tensor(3.76469, shape=(), dtype=float32)\n",
      "MSE:3.592367649078369\n",
      "tf.Tensor(2.5542686, shape=(), dtype=float32)\n",
      "MSE:2.7942943572998047\n",
      "tf.Tensor(2.335907, shape=(), dtype=float32)\n",
      "MSE:2.692537546157837\n",
      "tf.Tensor(2.2756214, shape=(), dtype=float32)\n",
      "MSE:2.6625847816467285\n",
      "tf.Tensor(2.2331934, shape=(), dtype=float32)\n",
      "MSE:2.6503138542175293\n",
      "tf.Tensor(2.2002463, shape=(), dtype=float32)\n",
      "MSE:2.6235883235931396\n"
     ]
    },
    {
     "data": {
      "application/vnd.jupyter.widget-view+json": {
       "model_id": "595517e2e3b941b8afa3ea147accfdd3",
       "version_major": 2,
       "version_minor": 0
      },
      "text/plain": [
       "  0%|          | 0/101 [00:00<?, ?it/s]"
      ]
     },
     "metadata": {},
     "output_type": "display_data"
    },
    {
     "name": "stdout",
     "output_type": "stream",
     "text": [
      "tf.Tensor(3.7647467, shape=(), dtype=float32)\n",
      "MSE:3.5929765701293945\n",
      "tf.Tensor(2.5810382, shape=(), dtype=float32)\n",
      "MSE:2.7615580558776855\n",
      "tf.Tensor(2.3525786, shape=(), dtype=float32)\n",
      "MSE:2.656710624694824\n",
      "tf.Tensor(2.3118563, shape=(), dtype=float32)\n",
      "MSE:2.6467132568359375\n",
      "tf.Tensor(2.2583103, shape=(), dtype=float32)\n",
      "MSE:2.655712366104126\n",
      "tf.Tensor(2.245658, shape=(), dtype=float32)\n",
      "MSE:2.6348142623901367\n"
     ]
    },
    {
     "data": {
      "application/vnd.jupyter.widget-view+json": {
       "model_id": "7588893751224b4db9c8c5ad533044ec",
       "version_major": 2,
       "version_minor": 0
      },
      "text/plain": [
       "  0%|          | 0/101 [00:00<?, ?it/s]"
      ]
     },
     "metadata": {},
     "output_type": "display_data"
    },
    {
     "name": "stdout",
     "output_type": "stream",
     "text": [
      "tf.Tensor(3.7646813, shape=(), dtype=float32)\n",
      "MSE:3.592531681060791\n",
      "tf.Tensor(2.5491138, shape=(), dtype=float32)\n",
      "MSE:2.7705488204956055\n",
      "tf.Tensor(2.3528574, shape=(), dtype=float32)\n",
      "MSE:2.6911098957061768\n",
      "tf.Tensor(2.293666, shape=(), dtype=float32)\n",
      "MSE:2.6613032817840576\n",
      "tf.Tensor(2.2380934, shape=(), dtype=float32)\n",
      "MSE:2.6398305892944336\n",
      "tf.Tensor(2.215424, shape=(), dtype=float32)\n",
      "MSE:2.631452798843384\n"
     ]
    },
    {
     "data": {
      "application/vnd.jupyter.widget-view+json": {
       "model_id": "fe2a2a9053aa4b1c97abb2dd6b9eb2ed",
       "version_major": 2,
       "version_minor": 0
      },
      "text/plain": [
       "  0%|          | 0/101 [00:00<?, ?it/s]"
      ]
     },
     "metadata": {},
     "output_type": "display_data"
    },
    {
     "name": "stdout",
     "output_type": "stream",
     "text": [
      "tf.Tensor(3.7648082, shape=(), dtype=float32)\n",
      "MSE:3.5938236713409424\n",
      "tf.Tensor(2.5676606, shape=(), dtype=float32)\n",
      "MSE:2.778186559677124\n",
      "tf.Tensor(2.3669329, shape=(), dtype=float32)\n",
      "MSE:2.699857234954834\n",
      "tf.Tensor(2.3121793, shape=(), dtype=float32)\n",
      "MSE:2.6390953063964844\n",
      "tf.Tensor(2.269709, shape=(), dtype=float32)\n",
      "MSE:2.6520426273345947\n",
      "tf.Tensor(2.2509418, shape=(), dtype=float32)\n",
      "MSE:2.6217973232269287\n"
     ]
    },
    {
     "data": {
      "application/vnd.jupyter.widget-view+json": {
       "model_id": "6e1ca1a1a05249fb840a662bb475942d",
       "version_major": 2,
       "version_minor": 0
      },
      "text/plain": [
       "  0%|          | 0/101 [00:00<?, ?it/s]"
      ]
     },
     "metadata": {},
     "output_type": "display_data"
    },
    {
     "name": "stdout",
     "output_type": "stream",
     "text": [
      "tf.Tensor(3.7647517, shape=(), dtype=float32)\n",
      "MSE:3.592947244644165\n",
      "tf.Tensor(2.575171, shape=(), dtype=float32)\n",
      "MSE:2.7685844898223877\n",
      "tf.Tensor(2.362008, shape=(), dtype=float32)\n",
      "MSE:2.696920871734619\n",
      "tf.Tensor(2.3060966, shape=(), dtype=float32)\n",
      "MSE:2.6631979942321777\n",
      "tf.Tensor(2.254811, shape=(), dtype=float32)\n",
      "MSE:2.653900384902954\n",
      "tf.Tensor(2.223012, shape=(), dtype=float32)\n",
      "MSE:2.6149518489837646\n"
     ]
    },
    {
     "data": {
      "application/vnd.jupyter.widget-view+json": {
       "model_id": "e4d914aa18e3473c823577448204f303",
       "version_major": 2,
       "version_minor": 0
      },
      "text/plain": [
       "  0%|          | 0/101 [00:00<?, ?it/s]"
      ]
     },
     "metadata": {},
     "output_type": "display_data"
    },
    {
     "name": "stdout",
     "output_type": "stream",
     "text": [
      "tf.Tensor(3.764928, shape=(), dtype=float32)\n",
      "MSE:3.590794086456299\n",
      "tf.Tensor(2.572884, shape=(), dtype=float32)\n",
      "MSE:2.7630043029785156\n",
      "tf.Tensor(2.3577535, shape=(), dtype=float32)\n",
      "MSE:2.680180788040161\n",
      "tf.Tensor(2.3127134, shape=(), dtype=float32)\n",
      "MSE:2.67214298248291\n",
      "tf.Tensor(2.2581553, shape=(), dtype=float32)\n",
      "MSE:2.6470179557800293\n",
      "tf.Tensor(2.2285943, shape=(), dtype=float32)\n",
      "MSE:2.6171720027923584\n"
     ]
    },
    {
     "data": {
      "application/vnd.jupyter.widget-view+json": {
       "model_id": "4c34442e8cb7476d84c293be9360159e",
       "version_major": 2,
       "version_minor": 0
      },
      "text/plain": [
       "  0%|          | 0/101 [00:00<?, ?it/s]"
      ]
     },
     "metadata": {},
     "output_type": "display_data"
    },
    {
     "name": "stdout",
     "output_type": "stream",
     "text": [
      "tf.Tensor(3.7648547, shape=(), dtype=float32)\n",
      "MSE:3.591815948486328\n",
      "tf.Tensor(2.555368, shape=(), dtype=float32)\n",
      "MSE:2.766887903213501\n",
      "tf.Tensor(2.3580518, shape=(), dtype=float32)\n",
      "MSE:2.6950721740722656\n",
      "tf.Tensor(2.291851, shape=(), dtype=float32)\n",
      "MSE:2.667210102081299\n",
      "tf.Tensor(2.2438078, shape=(), dtype=float32)\n",
      "MSE:2.636275053024292\n",
      "tf.Tensor(2.2072706, shape=(), dtype=float32)\n",
      "MSE:2.617842674255371\n"
     ]
    },
    {
     "data": {
      "application/vnd.jupyter.widget-view+json": {
       "model_id": "a08868e657414488af8c123ba292979b",
       "version_major": 2,
       "version_minor": 0
      },
      "text/plain": [
       "  0%|          | 0/101 [00:00<?, ?it/s]"
      ]
     },
     "metadata": {},
     "output_type": "display_data"
    },
    {
     "name": "stdout",
     "output_type": "stream",
     "text": [
      "tf.Tensor(3.7644703, shape=(), dtype=float32)\n",
      "MSE:3.591801643371582\n",
      "tf.Tensor(2.552458, shape=(), dtype=float32)\n",
      "MSE:2.7716569900512695\n",
      "tf.Tensor(2.332446, shape=(), dtype=float32)\n",
      "MSE:2.671602725982666\n",
      "tf.Tensor(2.3043036, shape=(), dtype=float32)\n",
      "MSE:2.6680116653442383\n",
      "tf.Tensor(2.2322564, shape=(), dtype=float32)\n",
      "MSE:2.637930393218994\n",
      "tf.Tensor(2.2165995, shape=(), dtype=float32)\n",
      "MSE:2.621378183364868\n"
     ]
    },
    {
     "data": {
      "application/vnd.jupyter.widget-view+json": {
       "model_id": "8112c33f7e404db0b085229395f34c03",
       "version_major": 2,
       "version_minor": 0
      },
      "text/plain": [
       "  0%|          | 0/101 [00:00<?, ?it/s]"
      ]
     },
     "metadata": {},
     "output_type": "display_data"
    },
    {
     "name": "stdout",
     "output_type": "stream",
     "text": [
      "tf.Tensor(3.7646768, shape=(), dtype=float32)\n",
      "MSE:3.5914113521575928\n",
      "tf.Tensor(2.562313, shape=(), dtype=float32)\n",
      "MSE:2.746504545211792\n",
      "tf.Tensor(2.350469, shape=(), dtype=float32)\n",
      "MSE:2.6895837783813477\n",
      "tf.Tensor(2.2854328, shape=(), dtype=float32)\n",
      "MSE:2.640843152999878\n",
      "tf.Tensor(2.2520669, shape=(), dtype=float32)\n",
      "MSE:2.644944429397583\n",
      "tf.Tensor(2.231571, shape=(), dtype=float32)\n",
      "MSE:2.6173360347747803\n"
     ]
    },
    {
     "data": {
      "application/vnd.jupyter.widget-view+json": {
       "model_id": "105e44b94ca84ad29d82a31c726739ae",
       "version_major": 2,
       "version_minor": 0
      },
      "text/plain": [
       "  0%|          | 0/101 [00:00<?, ?it/s]"
      ]
     },
     "metadata": {},
     "output_type": "display_data"
    },
    {
     "name": "stdout",
     "output_type": "stream",
     "text": [
      "tf.Tensor(3.7649672, shape=(), dtype=float32)\n",
      "MSE:3.592099189758301\n",
      "tf.Tensor(2.5479257, shape=(), dtype=float32)\n",
      "MSE:2.7682156562805176\n",
      "tf.Tensor(2.333725, shape=(), dtype=float32)\n",
      "MSE:2.678065776824951\n",
      "tf.Tensor(2.2788877, shape=(), dtype=float32)\n",
      "MSE:2.6621835231781006\n",
      "tf.Tensor(2.2325273, shape=(), dtype=float32)\n",
      "MSE:2.6433351039886475\n",
      "tf.Tensor(2.2139378, shape=(), dtype=float32)\n",
      "MSE:2.6229395866394043\n"
     ]
    },
    {
     "data": {
      "application/vnd.jupyter.widget-view+json": {
       "model_id": "d886d7532caf42818e86d2a3aada2290",
       "version_major": 2,
       "version_minor": 0
      },
      "text/plain": [
       "  0%|          | 0/101 [00:00<?, ?it/s]"
      ]
     },
     "metadata": {},
     "output_type": "display_data"
    },
    {
     "name": "stdout",
     "output_type": "stream",
     "text": [
      "tf.Tensor(3.7642288, shape=(), dtype=float32)\n",
      "MSE:3.592113971710205\n",
      "tf.Tensor(2.55273, shape=(), dtype=float32)\n",
      "MSE:2.761484384536743\n",
      "tf.Tensor(2.3400984, shape=(), dtype=float32)\n",
      "MSE:2.675654888153076\n",
      "tf.Tensor(2.2943625, shape=(), dtype=float32)\n",
      "MSE:2.668257713317871\n",
      "tf.Tensor(2.2409034, shape=(), dtype=float32)\n",
      "MSE:2.650179624557495\n",
      "tf.Tensor(2.2152843, shape=(), dtype=float32)\n",
      "MSE:2.6222145557403564\n"
     ]
    },
    {
     "data": {
      "application/vnd.jupyter.widget-view+json": {
       "model_id": "07ca1d68accb476aadefef40aedd311f",
       "version_major": 2,
       "version_minor": 0
      },
      "text/plain": [
       "  0%|          | 0/101 [00:00<?, ?it/s]"
      ]
     },
     "metadata": {},
     "output_type": "display_data"
    },
    {
     "name": "stdout",
     "output_type": "stream",
     "text": [
      "tf.Tensor(3.7644813, shape=(), dtype=float32)\n",
      "MSE:3.5913631916046143\n",
      "tf.Tensor(2.544261, shape=(), dtype=float32)\n",
      "MSE:2.7761402130126953\n",
      "tf.Tensor(2.336832, shape=(), dtype=float32)\n",
      "MSE:2.701076030731201\n",
      "tf.Tensor(2.282916, shape=(), dtype=float32)\n",
      "MSE:2.669038772583008\n",
      "tf.Tensor(2.2354746, shape=(), dtype=float32)\n",
      "MSE:2.6509506702423096\n",
      "tf.Tensor(2.2089033, shape=(), dtype=float32)\n",
      "MSE:2.611544370651245\n"
     ]
    },
    {
     "data": {
      "application/vnd.jupyter.widget-view+json": {
       "model_id": "b6277c42139c4bae84fef91a12349531",
       "version_major": 2,
       "version_minor": 0
      },
      "text/plain": [
       "  0%|          | 0/101 [00:00<?, ?it/s]"
      ]
     },
     "metadata": {},
     "output_type": "display_data"
    },
    {
     "name": "stdout",
     "output_type": "stream",
     "text": [
      "tf.Tensor(3.7650023, shape=(), dtype=float32)\n",
      "MSE:3.5918376445770264\n",
      "tf.Tensor(2.5445802, shape=(), dtype=float32)\n",
      "MSE:2.7680654525756836\n",
      "tf.Tensor(2.3274035, shape=(), dtype=float32)\n",
      "MSE:2.6680994033813477\n",
      "tf.Tensor(2.2841144, shape=(), dtype=float32)\n",
      "MSE:2.663644790649414\n",
      "tf.Tensor(2.2294717, shape=(), dtype=float32)\n",
      "MSE:2.6685192584991455\n",
      "tf.Tensor(2.2241364, shape=(), dtype=float32)\n",
      "MSE:2.631946325302124\n"
     ]
    },
    {
     "data": {
      "application/vnd.jupyter.widget-view+json": {
       "model_id": "1a13b6aceafe41d2afc63953c98177a8",
       "version_major": 2,
       "version_minor": 0
      },
      "text/plain": [
       "  0%|          | 0/101 [00:00<?, ?it/s]"
      ]
     },
     "metadata": {},
     "output_type": "display_data"
    },
    {
     "name": "stdout",
     "output_type": "stream",
     "text": [
      "tf.Tensor(3.7647228, shape=(), dtype=float32)\n",
      "MSE:3.5915637016296387\n",
      "tf.Tensor(2.553248, shape=(), dtype=float32)\n",
      "MSE:2.7659804821014404\n",
      "tf.Tensor(2.3292, shape=(), dtype=float32)\n",
      "MSE:2.6716206073760986\n",
      "tf.Tensor(2.2871327, shape=(), dtype=float32)\n",
      "MSE:2.6524741649627686\n",
      "tf.Tensor(2.2340443, shape=(), dtype=float32)\n",
      "MSE:2.6462044715881348\n",
      "tf.Tensor(2.2163136, shape=(), dtype=float32)\n",
      "MSE:2.618337631225586\n"
     ]
    },
    {
     "data": {
      "application/vnd.jupyter.widget-view+json": {
       "model_id": "9e3180216d364b2abdd3635eb89597bf",
       "version_major": 2,
       "version_minor": 0
      },
      "text/plain": [
       "  0%|          | 0/101 [00:00<?, ?it/s]"
      ]
     },
     "metadata": {},
     "output_type": "display_data"
    },
    {
     "name": "stdout",
     "output_type": "stream",
     "text": [
      "tf.Tensor(3.7644446, shape=(), dtype=float32)\n",
      "MSE:3.5928425788879395\n",
      "tf.Tensor(2.5772297, shape=(), dtype=float32)\n",
      "MSE:2.749537229537964\n",
      "tf.Tensor(2.3557143, shape=(), dtype=float32)\n",
      "MSE:2.678378105163574\n",
      "tf.Tensor(2.3133345, shape=(), dtype=float32)\n",
      "MSE:2.650519847869873\n",
      "tf.Tensor(2.2647996, shape=(), dtype=float32)\n",
      "MSE:2.6589231491088867\n",
      "tf.Tensor(2.2397678, shape=(), dtype=float32)\n",
      "MSE:2.6259219646453857\n"
     ]
    },
    {
     "data": {
      "application/vnd.jupyter.widget-view+json": {
       "model_id": "b37853b119474d09a4eb64dcfa79e23f",
       "version_major": 2,
       "version_minor": 0
      },
      "text/plain": [
       "  0%|          | 0/101 [00:00<?, ?it/s]"
      ]
     },
     "metadata": {},
     "output_type": "display_data"
    },
    {
     "name": "stdout",
     "output_type": "stream",
     "text": [
      "tf.Tensor(3.7647748, shape=(), dtype=float32)\n",
      "MSE:3.5930519104003906\n",
      "tf.Tensor(2.492407, shape=(), dtype=float32)\n",
      "MSE:2.756927490234375\n",
      "tf.Tensor(2.2853909, shape=(), dtype=float32)\n",
      "MSE:2.672203302383423\n",
      "tf.Tensor(2.2382307, shape=(), dtype=float32)\n",
      "MSE:2.6833863258361816\n",
      "tf.Tensor(2.1858096, shape=(), dtype=float32)\n",
      "MSE:2.6541125774383545\n",
      "tf.Tensor(2.1527476, shape=(), dtype=float32)\n",
      "MSE:2.625378131866455\n"
     ]
    },
    {
     "data": {
      "application/vnd.jupyter.widget-view+json": {
       "model_id": "b2df670474364e5db9b8d3969d796381",
       "version_major": 2,
       "version_minor": 0
      },
      "text/plain": [
       "  0%|          | 0/101 [00:00<?, ?it/s]"
      ]
     },
     "metadata": {},
     "output_type": "display_data"
    },
    {
     "name": "stdout",
     "output_type": "stream",
     "text": [
      "tf.Tensor(3.764937, shape=(), dtype=float32)\n",
      "MSE:3.5945546627044678\n",
      "tf.Tensor(2.4917367, shape=(), dtype=float32)\n",
      "MSE:2.7637248039245605\n",
      "tf.Tensor(2.2883573, shape=(), dtype=float32)\n",
      "MSE:2.6967661380767822\n",
      "tf.Tensor(2.230181, shape=(), dtype=float32)\n",
      "MSE:2.6536850929260254\n",
      "tf.Tensor(2.180465, shape=(), dtype=float32)\n",
      "MSE:2.652094841003418\n",
      "tf.Tensor(2.1442473, shape=(), dtype=float32)\n",
      "MSE:2.64216947555542\n"
     ]
    },
    {
     "data": {
      "application/vnd.jupyter.widget-view+json": {
       "model_id": "66824ad0b47c41cf9d604e21da3c858b",
       "version_major": 2,
       "version_minor": 0
      },
      "text/plain": [
       "  0%|          | 0/101 [00:00<?, ?it/s]"
      ]
     },
     "metadata": {},
     "output_type": "display_data"
    },
    {
     "name": "stdout",
     "output_type": "stream",
     "text": [
      "tf.Tensor(3.764761, shape=(), dtype=float32)\n",
      "MSE:3.5929086208343506\n",
      "tf.Tensor(2.4938016, shape=(), dtype=float32)\n",
      "MSE:2.757716417312622\n",
      "tf.Tensor(2.2582746, shape=(), dtype=float32)\n",
      "MSE:2.6587274074554443\n",
      "tf.Tensor(2.2186847, shape=(), dtype=float32)\n",
      "MSE:2.6623716354370117\n",
      "tf.Tensor(2.160512, shape=(), dtype=float32)\n",
      "MSE:2.6387429237365723\n",
      "tf.Tensor(2.129581, shape=(), dtype=float32)\n",
      "MSE:2.631864309310913\n"
     ]
    },
    {
     "data": {
      "application/vnd.jupyter.widget-view+json": {
       "model_id": "bdab2f83ffc94f3691f8445d3e31d3a1",
       "version_major": 2,
       "version_minor": 0
      },
      "text/plain": [
       "  0%|          | 0/101 [00:00<?, ?it/s]"
      ]
     },
     "metadata": {},
     "output_type": "display_data"
    },
    {
     "name": "stdout",
     "output_type": "stream",
     "text": [
      "tf.Tensor(3.7647638, shape=(), dtype=float32)\n",
      "MSE:3.592183828353882\n",
      "tf.Tensor(2.4746609, shape=(), dtype=float32)\n",
      "MSE:2.7706892490386963\n",
      "tf.Tensor(2.2713094, shape=(), dtype=float32)\n",
      "MSE:2.6766014099121094\n",
      "tf.Tensor(2.190589, shape=(), dtype=float32)\n",
      "MSE:2.6481075286865234\n",
      "tf.Tensor(2.1559134, shape=(), dtype=float32)\n",
      "MSE:2.638962745666504\n",
      "tf.Tensor(2.1240435, shape=(), dtype=float32)\n",
      "MSE:2.622922420501709\n"
     ]
    },
    {
     "data": {
      "application/vnd.jupyter.widget-view+json": {
       "model_id": "9197d275ab454d5f988cc63d02a16f07",
       "version_major": 2,
       "version_minor": 0
      },
      "text/plain": [
       "  0%|          | 0/101 [00:00<?, ?it/s]"
      ]
     },
     "metadata": {},
     "output_type": "display_data"
    },
    {
     "name": "stdout",
     "output_type": "stream",
     "text": [
      "tf.Tensor(3.764771, shape=(), dtype=float32)\n",
      "MSE:3.5965912342071533\n",
      "tf.Tensor(2.5041728, shape=(), dtype=float32)\n",
      "MSE:2.776822805404663\n",
      "tf.Tensor(2.2809806, shape=(), dtype=float32)\n",
      "MSE:2.690580368041992\n",
      "tf.Tensor(2.2156692, shape=(), dtype=float32)\n",
      "MSE:2.6604440212249756\n",
      "tf.Tensor(2.1803455, shape=(), dtype=float32)\n",
      "MSE:2.665140151977539\n",
      "tf.Tensor(2.1368809, shape=(), dtype=float32)\n",
      "MSE:2.62374210357666\n"
     ]
    },
    {
     "data": {
      "application/vnd.jupyter.widget-view+json": {
       "model_id": "1b9fa2213c904af09a057e4579afec79",
       "version_major": 2,
       "version_minor": 0
      },
      "text/plain": [
       "  0%|          | 0/101 [00:00<?, ?it/s]"
      ]
     },
     "metadata": {},
     "output_type": "display_data"
    },
    {
     "name": "stdout",
     "output_type": "stream",
     "text": [
      "tf.Tensor(3.7646043, shape=(), dtype=float32)\n",
      "MSE:3.593125343322754\n",
      "tf.Tensor(2.4836044, shape=(), dtype=float32)\n",
      "MSE:2.7698848247528076\n",
      "tf.Tensor(2.2639413, shape=(), dtype=float32)\n",
      "MSE:2.6722617149353027\n",
      "tf.Tensor(2.2199998, shape=(), dtype=float32)\n",
      "MSE:2.676342248916626\n",
      "tf.Tensor(2.1809077, shape=(), dtype=float32)\n",
      "MSE:2.6514699459075928\n",
      "tf.Tensor(2.144014, shape=(), dtype=float32)\n",
      "MSE:2.6349854469299316\n"
     ]
    },
    {
     "data": {
      "application/vnd.jupyter.widget-view+json": {
       "model_id": "d75264ba603c474dbd41a324cd823b9e",
       "version_major": 2,
       "version_minor": 0
      },
      "text/plain": [
       "  0%|          | 0/101 [00:00<?, ?it/s]"
      ]
     },
     "metadata": {},
     "output_type": "display_data"
    },
    {
     "name": "stdout",
     "output_type": "stream",
     "text": [
      "tf.Tensor(3.7648714, shape=(), dtype=float32)\n",
      "MSE:3.593545436859131\n",
      "tf.Tensor(2.4842625, shape=(), dtype=float32)\n",
      "MSE:2.7555184364318848\n",
      "tf.Tensor(2.2742977, shape=(), dtype=float32)\n",
      "MSE:2.6785953044891357\n",
      "tf.Tensor(2.2110438, shape=(), dtype=float32)\n",
      "MSE:2.6699717044830322\n",
      "tf.Tensor(2.1654658, shape=(), dtype=float32)\n",
      "MSE:2.639986753463745\n",
      "tf.Tensor(2.1293073, shape=(), dtype=float32)\n",
      "MSE:2.621999979019165\n"
     ]
    },
    {
     "data": {
      "application/vnd.jupyter.widget-view+json": {
       "model_id": "9df30b5085694b1f9e9b9741e69e6006",
       "version_major": 2,
       "version_minor": 0
      },
      "text/plain": [
       "  0%|          | 0/101 [00:00<?, ?it/s]"
      ]
     },
     "metadata": {},
     "output_type": "display_data"
    },
    {
     "name": "stdout",
     "output_type": "stream",
     "text": [
      "tf.Tensor(3.7647111, shape=(), dtype=float32)\n",
      "MSE:3.592217445373535\n",
      "tf.Tensor(2.4965231, shape=(), dtype=float32)\n",
      "MSE:2.768026113510132\n",
      "tf.Tensor(2.2859788, shape=(), dtype=float32)\n",
      "MSE:2.6663031578063965\n",
      "tf.Tensor(2.214601, shape=(), dtype=float32)\n",
      "MSE:2.657417058944702\n",
      "tf.Tensor(2.1696582, shape=(), dtype=float32)\n",
      "MSE:2.649219274520874\n",
      "tf.Tensor(2.141713, shape=(), dtype=float32)\n",
      "MSE:2.623291492462158\n"
     ]
    },
    {
     "data": {
      "application/vnd.jupyter.widget-view+json": {
       "model_id": "fc3bbceef5d44764b4de92ba35bd5493",
       "version_major": 2,
       "version_minor": 0
      },
      "text/plain": [
       "  0%|          | 0/101 [00:00<?, ?it/s]"
      ]
     },
     "metadata": {},
     "output_type": "display_data"
    },
    {
     "name": "stdout",
     "output_type": "stream",
     "text": [
      "tf.Tensor(3.7646878, shape=(), dtype=float32)\n",
      "MSE:3.592297315597534\n",
      "tf.Tensor(2.4851053, shape=(), dtype=float32)\n",
      "MSE:2.7635834217071533\n",
      "tf.Tensor(2.2720623, shape=(), dtype=float32)\n",
      "MSE:2.674391746520996\n",
      "tf.Tensor(2.2063875, shape=(), dtype=float32)\n",
      "MSE:2.660953998565674\n",
      "tf.Tensor(2.1825194, shape=(), dtype=float32)\n",
      "MSE:2.6572680473327637\n",
      "tf.Tensor(2.1354976, shape=(), dtype=float32)\n",
      "MSE:2.6251296997070312\n"
     ]
    },
    {
     "data": {
      "application/vnd.jupyter.widget-view+json": {
       "model_id": "9de46bd4a1154c4b9c924b11dd25bd31",
       "version_major": 2,
       "version_minor": 0
      },
      "text/plain": [
       "  0%|          | 0/101 [00:00<?, ?it/s]"
      ]
     },
     "metadata": {},
     "output_type": "display_data"
    },
    {
     "name": "stdout",
     "output_type": "stream",
     "text": [
      "tf.Tensor(3.7645068, shape=(), dtype=float32)\n",
      "MSE:3.5929806232452393\n",
      "tf.Tensor(2.5016973, shape=(), dtype=float32)\n",
      "MSE:2.768836498260498\n",
      "tf.Tensor(2.2864075, shape=(), dtype=float32)\n",
      "MSE:2.6772851943969727\n",
      "tf.Tensor(2.2204185, shape=(), dtype=float32)\n",
      "MSE:2.664118528366089\n",
      "tf.Tensor(2.1754508, shape=(), dtype=float32)\n",
      "MSE:2.6360301971435547\n",
      "tf.Tensor(2.1650362, shape=(), dtype=float32)\n",
      "MSE:2.6307191848754883\n"
     ]
    },
    {
     "data": {
      "application/vnd.jupyter.widget-view+json": {
       "model_id": "c3b410925df342e2866a59f46b05e0e2",
       "version_major": 2,
       "version_minor": 0
      },
      "text/plain": [
       "  0%|          | 0/101 [00:00<?, ?it/s]"
      ]
     },
     "metadata": {},
     "output_type": "display_data"
    },
    {
     "name": "stdout",
     "output_type": "stream",
     "text": [
      "tf.Tensor(3.764858, shape=(), dtype=float32)\n",
      "MSE:3.5945510864257812\n",
      "tf.Tensor(2.5075889, shape=(), dtype=float32)\n",
      "MSE:2.7642533779144287\n",
      "tf.Tensor(2.2710962, shape=(), dtype=float32)\n",
      "MSE:2.6727454662323\n",
      "tf.Tensor(2.221074, shape=(), dtype=float32)\n",
      "MSE:2.6714890003204346\n",
      "tf.Tensor(2.1917303, shape=(), dtype=float32)\n",
      "MSE:2.6534082889556885\n",
      "tf.Tensor(2.1431823, shape=(), dtype=float32)\n",
      "MSE:2.626800775527954\n"
     ]
    },
    {
     "data": {
      "application/vnd.jupyter.widget-view+json": {
       "model_id": "cb7b550cb4834b63b454c184916249e0",
       "version_major": 2,
       "version_minor": 0
      },
      "text/plain": [
       "  0%|          | 0/101 [00:00<?, ?it/s]"
      ]
     },
     "metadata": {},
     "output_type": "display_data"
    },
    {
     "name": "stdout",
     "output_type": "stream",
     "text": [
      "tf.Tensor(3.76501, shape=(), dtype=float32)\n",
      "MSE:3.5941150188446045\n",
      "tf.Tensor(2.5053387, shape=(), dtype=float32)\n",
      "MSE:2.763688087463379\n",
      "tf.Tensor(2.285684, shape=(), dtype=float32)\n",
      "MSE:2.6834893226623535\n",
      "tf.Tensor(2.2339358, shape=(), dtype=float32)\n",
      "MSE:2.6593379974365234\n",
      "tf.Tensor(2.1952796, shape=(), dtype=float32)\n",
      "MSE:2.6740236282348633\n",
      "tf.Tensor(2.1498494, shape=(), dtype=float32)\n",
      "MSE:2.622607946395874\n"
     ]
    },
    {
     "data": {
      "application/vnd.jupyter.widget-view+json": {
       "model_id": "54face740e654c67bcb99de3cff09dbe",
       "version_major": 2,
       "version_minor": 0
      },
      "text/plain": [
       "  0%|          | 0/101 [00:00<?, ?it/s]"
      ]
     },
     "metadata": {},
     "output_type": "display_data"
    },
    {
     "name": "stdout",
     "output_type": "stream",
     "text": [
      "tf.Tensor(3.7646303, shape=(), dtype=float32)\n",
      "MSE:3.5918631553649902\n",
      "tf.Tensor(2.4904733, shape=(), dtype=float32)\n",
      "MSE:2.7542929649353027\n",
      "tf.Tensor(2.2785988, shape=(), dtype=float32)\n",
      "MSE:2.6766293048858643\n",
      "tf.Tensor(2.2248654, shape=(), dtype=float32)\n",
      "MSE:2.6714365482330322\n",
      "tf.Tensor(2.1738563, shape=(), dtype=float32)\n",
      "MSE:2.6501951217651367\n",
      "tf.Tensor(2.1312017, shape=(), dtype=float32)\n",
      "MSE:2.6193654537200928\n"
     ]
    },
    {
     "data": {
      "application/vnd.jupyter.widget-view+json": {
       "model_id": "2769ca20b0f6477fb5ff05243896cffe",
       "version_major": 2,
       "version_minor": 0
      },
      "text/plain": [
       "  0%|          | 0/101 [00:00<?, ?it/s]"
      ]
     },
     "metadata": {},
     "output_type": "display_data"
    },
    {
     "name": "stdout",
     "output_type": "stream",
     "text": [
      "tf.Tensor(3.7647266, shape=(), dtype=float32)\n",
      "MSE:3.590930461883545\n",
      "tf.Tensor(2.4823654, shape=(), dtype=float32)\n",
      "MSE:2.7677249908447266\n",
      "tf.Tensor(2.2649784, shape=(), dtype=float32)\n",
      "MSE:2.6726388931274414\n",
      "tf.Tensor(2.2023578, shape=(), dtype=float32)\n",
      "MSE:2.665806770324707\n",
      "tf.Tensor(2.171327, shape=(), dtype=float32)\n",
      "MSE:2.6795012950897217\n",
      "tf.Tensor(2.1423678, shape=(), dtype=float32)\n",
      "MSE:2.6329612731933594\n"
     ]
    },
    {
     "data": {
      "application/vnd.jupyter.widget-view+json": {
       "model_id": "facf98a4c9ed4eb5af52e1132cb6ffa1",
       "version_major": 2,
       "version_minor": 0
      },
      "text/plain": [
       "  0%|          | 0/101 [00:00<?, ?it/s]"
      ]
     },
     "metadata": {},
     "output_type": "display_data"
    },
    {
     "name": "stdout",
     "output_type": "stream",
     "text": [
      "tf.Tensor(3.7648191, shape=(), dtype=float32)\n",
      "MSE:3.5943024158477783\n",
      "tf.Tensor(2.4863105, shape=(), dtype=float32)\n",
      "MSE:2.7702181339263916\n",
      "tf.Tensor(2.2911913, shape=(), dtype=float32)\n",
      "MSE:2.680692672729492\n",
      "tf.Tensor(2.2344713, shape=(), dtype=float32)\n",
      "MSE:2.676628828048706\n",
      "tf.Tensor(2.1710417, shape=(), dtype=float32)\n",
      "MSE:2.655324935913086\n",
      "tf.Tensor(2.14094, shape=(), dtype=float32)\n",
      "MSE:2.6301023960113525\n"
     ]
    },
    {
     "data": {
      "application/vnd.jupyter.widget-view+json": {
       "model_id": "c7dc775893184f719e90248753816c69",
       "version_major": 2,
       "version_minor": 0
      },
      "text/plain": [
       "  0%|          | 0/101 [00:00<?, ?it/s]"
      ]
     },
     "metadata": {},
     "output_type": "display_data"
    },
    {
     "name": "stdout",
     "output_type": "stream",
     "text": [
      "tf.Tensor(3.7645385, shape=(), dtype=float32)\n",
      "MSE:3.5921618938446045\n",
      "tf.Tensor(2.4699168, shape=(), dtype=float32)\n",
      "MSE:2.7693300247192383\n",
      "tf.Tensor(2.2724085, shape=(), dtype=float32)\n",
      "MSE:2.6863667964935303\n",
      "tf.Tensor(2.2075033, shape=(), dtype=float32)\n",
      "MSE:2.6509594917297363\n",
      "tf.Tensor(2.1536362, shape=(), dtype=float32)\n",
      "MSE:2.6322414875030518\n",
      "tf.Tensor(2.1416264, shape=(), dtype=float32)\n",
      "MSE:2.617682695388794\n"
     ]
    },
    {
     "data": {
      "application/vnd.jupyter.widget-view+json": {
       "model_id": "26f16d4522a64eda9a03b0238870516c",
       "version_major": 2,
       "version_minor": 0
      },
      "text/plain": [
       "  0%|          | 0/101 [00:00<?, ?it/s]"
      ]
     },
     "metadata": {},
     "output_type": "display_data"
    },
    {
     "name": "stdout",
     "output_type": "stream",
     "text": [
      "tf.Tensor(3.764679, shape=(), dtype=float32)\n",
      "MSE:3.593208074569702\n",
      "tf.Tensor(2.5137882, shape=(), dtype=float32)\n",
      "MSE:2.7587130069732666\n",
      "tf.Tensor(2.2920654, shape=(), dtype=float32)\n",
      "MSE:2.6643574237823486\n",
      "tf.Tensor(2.2483034, shape=(), dtype=float32)\n",
      "MSE:2.6609089374542236\n",
      "tf.Tensor(2.1862106, shape=(), dtype=float32)\n",
      "MSE:2.644912004470825\n",
      "tf.Tensor(2.1415873, shape=(), dtype=float32)\n",
      "MSE:2.6078007221221924\n"
     ]
    },
    {
     "data": {
      "application/vnd.jupyter.widget-view+json": {
       "model_id": "4289afe71f564cc18dec0c50ad427230",
       "version_major": 2,
       "version_minor": 0
      },
      "text/plain": [
       "  0%|          | 0/101 [00:00<?, ?it/s]"
      ]
     },
     "metadata": {},
     "output_type": "display_data"
    },
    {
     "name": "stdout",
     "output_type": "stream",
     "text": [
      "tf.Tensor(3.7646554, shape=(), dtype=float32)\n",
      "MSE:3.5917890071868896\n",
      "tf.Tensor(2.472536, shape=(), dtype=float32)\n",
      "MSE:2.7656397819519043\n",
      "tf.Tensor(2.262566, shape=(), dtype=float32)\n",
      "MSE:2.6819515228271484\n",
      "tf.Tensor(2.1958423, shape=(), dtype=float32)\n",
      "MSE:2.663058042526245\n",
      "tf.Tensor(2.1548624, shape=(), dtype=float32)\n",
      "MSE:2.650486469268799\n",
      "tf.Tensor(2.12258, shape=(), dtype=float32)\n",
      "MSE:2.6232755184173584\n"
     ]
    },
    {
     "data": {
      "application/vnd.jupyter.widget-view+json": {
       "model_id": "e5b2a2c4fcb146adb8182bb7046119ce",
       "version_major": 2,
       "version_minor": 0
      },
      "text/plain": [
       "  0%|          | 0/101 [00:00<?, ?it/s]"
      ]
     },
     "metadata": {},
     "output_type": "display_data"
    },
    {
     "name": "stdout",
     "output_type": "stream",
     "text": [
      "tf.Tensor(3.764849, shape=(), dtype=float32)\n",
      "MSE:3.592958688735962\n",
      "tf.Tensor(2.4801068, shape=(), dtype=float32)\n",
      "MSE:2.7557404041290283\n",
      "tf.Tensor(2.2768102, shape=(), dtype=float32)\n",
      "MSE:2.6768639087677\n",
      "tf.Tensor(2.2165475, shape=(), dtype=float32)\n",
      "MSE:2.6489806175231934\n",
      "tf.Tensor(2.1706135, shape=(), dtype=float32)\n",
      "MSE:2.6473731994628906\n",
      "tf.Tensor(2.1452355, shape=(), dtype=float32)\n",
      "MSE:2.618006944656372\n"
     ]
    },
    {
     "data": {
      "application/vnd.jupyter.widget-view+json": {
       "model_id": "4d7a99dc0d3f4232b1e51971a5088d38",
       "version_major": 2,
       "version_minor": 0
      },
      "text/plain": [
       "  0%|          | 0/101 [00:00<?, ?it/s]"
      ]
     },
     "metadata": {},
     "output_type": "display_data"
    },
    {
     "name": "stdout",
     "output_type": "stream",
     "text": [
      "tf.Tensor(3.7646697, shape=(), dtype=float32)\n",
      "MSE:3.5925934314727783\n",
      "tf.Tensor(2.4827018, shape=(), dtype=float32)\n",
      "MSE:2.7607598304748535\n",
      "tf.Tensor(2.2890425, shape=(), dtype=float32)\n",
      "MSE:2.666893482208252\n",
      "tf.Tensor(2.2160578, shape=(), dtype=float32)\n",
      "MSE:2.6472980976104736\n",
      "tf.Tensor(2.1815567, shape=(), dtype=float32)\n",
      "MSE:2.6427950859069824\n",
      "tf.Tensor(2.129775, shape=(), dtype=float32)\n",
      "MSE:2.60099720954895\n"
     ]
    }
   ],
   "source": [
    "training_result = {}\n",
    "for tag_num, data_t in tqdm(zip([30,50,100], [data_30, data_50, data_100])):\n",
    "    for lamb in [0.001, 0.0001]:\n",
    "        for iter in range(10):\n",
    "            random.seed(i)\n",
    "            train_interaction, test_interaction = train_test_split(data_t[1], train_size=0.98, random_state=i)\n",
    "            model = tagMF(30,0.0001,data_t[0].astype(\"float32\"), average_hours, len(data_t[2]), len(data_t[3]))\n",
    "            optimizer = tf.keras.optimizers.Adam(0.05)\n",
    "            for i in tqdm(range(101)):\n",
    "                obj = trainingStep(model, train_interaction)\n",
    "                if (i%20 == 0):\n",
    "                    sampleU,sampleI,sampleR =zip(*test_interaction)\n",
    "                    predR = model.predictSample(sampleU,sampleI)\n",
    "                    mse_vali = MSE(sampleR,predR)\n",
    "                    print(obj)\n",
    "                    print(f\"MSE:{mse_vali}\")\n",
    "                    training_result[(tag_num, lamb, iter, i)] = (obj, mse_vali)"
   ]
  },
  {
   "cell_type": "code",
   "execution_count": 226,
   "id": "ae4e47da-6bda-49b2-8db2-baaf8b3d49f2",
   "metadata": {},
   "outputs": [
    {
     "data": {
      "text/plain": [
       "{(30, 0.001, 0): 3.5960641860961915,\n",
       " (30, 0.001, 20): 2.770968699455261,\n",
       " (30, 0.001, 40): 2.663127326965332,\n",
       " (30, 0.001, 60): 2.673240041732788,\n",
       " (30, 0.001, 80): 2.6496713876724245,\n",
       " (30, 0.001, 100): 2.632195568084717,\n",
       " (30, 0.0001, 0): 3.5925827026367188,\n",
       " (30, 0.0001, 20): 2.7711607456207275,\n",
       " (30, 0.0001, 40): 2.6644452571868897,\n",
       " (30, 0.0001, 60): 2.6659401655197144,\n",
       " (30, 0.0001, 80): 2.648909664154053,\n",
       " (30, 0.0001, 100): 2.6273096561431886,\n",
       " (50, 0.001, 0): 3.5926591873168947,\n",
       " (50, 0.001, 20): 2.770169496536255,\n",
       " (50, 0.001, 40): 2.68430643081665,\n",
       " (50, 0.001, 60): 2.660231924057007,\n",
       " (50, 0.001, 80): 2.648494243621826,\n",
       " (50, 0.001, 100): 2.6229490995407105,\n",
       " (50, 0.0001, 0): 3.5917643308639526,\n",
       " (50, 0.0001, 20): 2.763747715950012,\n",
       " (50, 0.0001, 40): 2.680933427810669,\n",
       " (50, 0.0001, 60): 2.661432671546936,\n",
       " (50, 0.0001, 80): 2.6484280109405516,\n",
       " (50, 0.0001, 100): 2.6206633329391478,\n",
       " (100, 0.001, 0): 3.5933456420898438,\n",
       " (100, 0.001, 20): 2.765173006057739,\n",
       " (100, 0.001, 40): 2.6763715744018555,\n",
       " (100, 0.001, 60): 2.663679814338684,\n",
       " (100, 0.001, 80): 2.648302745819092,\n",
       " (100, 0.001, 100): 2.628220224380493,\n",
       " (100, 0.0001, 0): 3.5928473234176637,\n",
       " (100, 0.0001, 20): 2.7630360603332518,\n",
       " (100, 0.0001, 40): 2.676262879371643,\n",
       " (100, 0.0001, 60): 2.6615904331207276,\n",
       " (100, 0.0001, 80): 2.6530261516571043,\n",
       " (100, 0.0001, 100): 2.61996009349823}"
      ]
     },
     "execution_count": 226,
     "metadata": {},
     "output_type": "execute_result"
    }
   ],
   "source": [
    "training_average = {}\n",
    "for tag_num, data_t in zip([30,50,100], [data_30, data_50, data_100]):\n",
    "    for lamb in [0.001, 0.0001]:\n",
    "        for i in [0,20,40,60,80,100]:\n",
    "            result = 0\n",
    "            for iter in range(10):\n",
    "                result += training_result[(tag_num, lamb, iter, i)][1].numpy()\n",
    "            training_average[(tag_num, lamb, i)] = result/10\n",
    "training_average"
   ]
  },
  {
   "cell_type": "code",
   "execution_count": 69,
   "id": "c3af3bce-a680-46cb-baeb-ac65da9dd79e",
   "metadata": {},
   "outputs": [
    {
     "data": {
      "text/plain": [
       "array([ 0.19036959, -0.08997277,  0.09698071,  0.04347944,  0.20011514,\n",
       "       -0.02755693, -0.0704846 , -0.14988087,  0.08751268, -0.04148639,\n",
       "        0.0598563 ,  0.12788755,  0.22028668,  0.07064371, -0.12278533,\n",
       "        0.00432835,  0.06285044, -0.2658008 ,  0.02103275,  0.08011886,\n",
       "       -0.15937188,  0.04815554, -0.07468703,  0.02830835,  0.0029659 ],\n",
       "      dtype=float32)"
      ]
     },
     "execution_count": 69,
     "metadata": {},
     "output_type": "execute_result"
    }
   ],
   "source": [
    "model.P[2].numpy()"
   ]
  },
  {
   "cell_type": "code",
   "execution_count": 243,
   "id": "4e23a2e8-db10-4a2a-bbf5-de9d8cc1053c",
   "metadata": {},
   "outputs": [],
   "source": [
    "Theta_i = model.Theta_i.numpy()"
   ]
  },
  {
   "cell_type": "code",
   "execution_count": 246,
   "id": "eaf27330-c4ca-459b-835c-f315a981211f",
   "metadata": {},
   "outputs": [
    {
     "data": {
      "text/plain": [
       "array([[ 0.08655585, -0.31059024,  0.34088385,  0.22870511,  0.28342706,\n",
       "         0.16156828, -0.32745996, -0.5270682 , -0.35885203, -0.80280244],\n",
       "       [-0.52094084, -0.00558778,  0.24897207,  0.21646231, -0.45195   ,\n",
       "         0.29141492,  0.11563437,  1.3226572 , -0.10379349, -0.18671106],\n",
       "       [ 0.03662562, -0.22050911, -0.01271682,  0.30618268,  0.6910591 ,\n",
       "         0.03599494, -0.2281576 , -0.10191011,  0.07073135,  0.03287695],\n",
       "       [ 0.11388445,  0.10570098,  0.26332816,  0.40769   , -0.1146616 ,\n",
       "         0.16208254,  0.11109021,  0.11924891, -0.15399408,  0.00753842],\n",
       "       [ 0.10828802, -0.13009731,  0.14095289, -0.17620967,  0.0103164 ,\n",
       "        -0.4891214 , -0.31590685, -0.04466379, -0.31548688, -0.01409433],\n",
       "       [-0.20929673, -0.07328509,  0.14584465, -0.0157699 , -0.6895931 ,\n",
       "        -0.12830137,  0.5286995 , -0.4495328 ,  0.3801405 ,  0.19117741],\n",
       "       [ 0.41861397, -0.6682073 ,  0.20890467, -0.2615907 ,  0.8585488 ,\n",
       "        -0.01509964,  0.09487591, -0.83612597, -0.12431882, -0.08743375],\n",
       "       [ 0.24980608, -0.2340973 ,  0.16568728, -0.5113506 , -0.16935717,\n",
       "         0.20903607,  0.24096833, -0.19609606,  0.24581468,  0.02028321]],\n",
       "      dtype=float32)"
      ]
     },
     "execution_count": 246,
     "metadata": {},
     "output_type": "execute_result"
    }
   ],
   "source": [
    "Theta_i[:8,:10]"
   ]
  },
  {
   "cell_type": "code",
   "execution_count": 254,
   "id": "384f73ba-5a4d-4a44-a7e8-79095995e4a4",
   "metadata": {},
   "outputs": [],
   "source": [
    "Selected_tags = np.zeros(30).astype(\"float32\")\n",
    "Selected_tags[5] = 0.85\n",
    "Selected_tags[6] = 0.95\n",
    "Selected_tags[21] = 1.0"
   ]
  },
  {
   "cell_type": "code",
   "execution_count": 255,
   "id": "494bd0d6-abd1-41d6-b7af-33e271a96f24",
   "metadata": {},
   "outputs": [
    {
     "data": {
      "text/plain": [
       "21"
      ]
     },
     "execution_count": 255,
     "metadata": {},
     "output_type": "execute_result"
    }
   ],
   "source": [
    "sorted_tags.index('Sci-fi')"
   ]
  },
  {
   "cell_type": "code",
   "execution_count": 256,
   "id": "48c2439d-4453-4827-be6d-84068f67c69d",
   "metadata": {},
   "outputs": [
    {
     "data": {
      "text/plain": [
       "'Singleplayer'"
      ]
     },
     "execution_count": 256,
     "metadata": {},
     "output_type": "execute_result"
    }
   ],
   "source": [
    "sorted_tags[10]"
   ]
  },
  {
   "cell_type": "code",
   "execution_count": 257,
   "id": "3d173c2f-1443-4358-8203-361d7d430bf9",
   "metadata": {},
   "outputs": [
    {
     "data": {
      "text/plain": [
       "['low-price',\n",
       " 'Indie',\n",
       " 'Action',\n",
       " 'Adventure',\n",
       " 'Casual',\n",
       " 'Simulation',\n",
       " 'Strategy',\n",
       " 'RPG',\n",
       " 'medium-price',\n",
       " 'Free to Play',\n",
       " 'Singleplayer',\n",
       " 'Multiplayer',\n",
       " 'Great Soundtrack',\n",
       " 'Puzzle',\n",
       " 'Early Access',\n",
       " '2D',\n",
       " 'Atmospheric',\n",
       " 'VR',\n",
       " 'Sports',\n",
       " 'Platformer',\n",
       " 'Story Rich',\n",
       " 'Sci-fi',\n",
       " 'Fantasy',\n",
       " 'Horror',\n",
       " 'Open World',\n",
       " 'Difficult',\n",
       " 'Anime',\n",
       " 'Massively Multiplayer',\n",
       " 'Pixel Graphics',\n",
       " 'Co-op',\n",
       " 'Shooter',\n",
       " 'Racing',\n",
       " 'Female Protagonist',\n",
       " 'Funny',\n",
       " 'First-Person',\n",
       " 'FPS',\n",
       " 'Sandbox',\n",
       " 'Arcade',\n",
       " 'Retro',\n",
       " 'Turn-Based',\n",
       " 'Comedy',\n",
       " 'Point & Click',\n",
       " 'Survival',\n",
       " 'high-price',\n",
       " 'Classic',\n",
       " 'Family Friendly',\n",
       " 'Space',\n",
       " 'Movie',\n",
       " 'Gore',\n",
       " 'Design & Illustration']"
      ]
     },
     "execution_count": 257,
     "metadata": {},
     "output_type": "execute_result"
    }
   ],
   "source": [
    "sorted_tags[:50]"
   ]
  },
  {
   "cell_type": "code",
   "execution_count": 258,
   "id": "4beea4c3-28f1-4c41-9a0b-b6f56542ee30",
   "metadata": {},
   "outputs": [],
   "source": [
    "result = []\n",
    "for i in range(len(games_w_tags_50)):\n",
    "    result.append(model.predict_given_user(Selected_tags, i).numpy())"
   ]
  },
  {
   "cell_type": "code",
   "execution_count": 261,
   "id": "209c5d58-0b1b-4b43-b09a-95b7b2e9169d",
   "metadata": {},
   "outputs": [
    {
     "name": "stdout",
     "output_type": "stream",
     "text": [
      "https://store.steampowered.com/app/294100   11.195342063903809\n",
      "https://store.steampowered.com/app/342200   10.85116958618164\n",
      "https://store.steampowered.com/app/223830   10.40960693359375\n",
      "https://store.steampowered.com/app/208140   10.259357452392578\n",
      "https://store.steampowered.com/app/8500   10.23606014251709\n",
      "https://store.steampowered.com/app/65980   10.105133056640625\n",
      "https://store.steampowered.com/app/212680   10.065489768981934\n",
      "https://store.steampowered.com/app/322910   9.968053817749023\n",
      "https://store.steampowered.com/app/301520   9.942577362060547\n",
      "https://store.steampowered.com/app/290300   9.89314079284668\n",
      "https://store.steampowered.com/app/244160   9.84282112121582\n",
      "https://store.steampowered.com/app/41800   9.807921409606934\n",
      "https://store.steampowered.com/app/92100   9.799325942993164\n",
      "https://store.steampowered.com/app/7760   9.697967529296875\n",
      "https://store.steampowered.com/app/310380   9.58668041229248\n",
      "https://store.steampowered.com/app/2820   9.522690773010254\n",
      "https://store.steampowered.com/app/234650   9.384608268737793\n",
      "https://store.steampowered.com/app/300550   9.347200393676758\n",
      "https://store.steampowered.com/app/227180   9.342636108398438\n",
      "https://store.steampowered.com/app/427520   9.318132400512695\n"
     ]
    }
   ],
   "source": [
    "result_sorted = [(x,i) for i,x in enumerate(result)]\n",
    "recommendation = sorted(result_sorted, reverse = True)[:20]\n",
    "for rec in recommendation:\n",
    "    print(f\"https://store.steampowered.com/app/{games_w_tags_50[rec[1]]}   {rec[0]}\")"
   ]
  },
  {
   "cell_type": "code",
   "execution_count": 228,
   "id": "5ea0a867-b9bb-4545-b646-d67e92d88150",
   "metadata": {},
   "outputs": [],
   "source": [
    "class LatentFactorModel(tf.keras.Model):\n",
    "    def __init__(self, mu, K, lamb):\n",
    "        super(LatentFactorModel, self).__init__()\n",
    "        # Initialize to average\n",
    "        self.alpha = tf.Variable(mu)\n",
    "        # Initialize to small random values\n",
    "        self.betaU = tf.Variable(tf.random.normal([len(users_kept_50)],stddev=0.001))\n",
    "        self.betaI = tf.Variable(tf.random.normal([len(games_w_tags_50)],stddev=0.001))\n",
    "        self.gammaU = tf.Variable(tf.random.normal([len(users_kept_50),K],stddev=0.001))\n",
    "        self.gammaI = tf.Variable(tf.random.normal([len(games_w_tags_50),K],stddev=0.001))\n",
    "        self.lamb = lamb\n",
    "        self.k = K\n",
    "\n",
    "    # Prediction for a single instance (useful for evaluation)\n",
    "    def predict(self, u, i):\n",
    "        p = self.alpha + self.betaU[u] + self.betaI[i] +\\\n",
    "            tf.tensordot(self.gammaU[u], self.gammaI[i], 1)\n",
    "        return p\n",
    "\n",
    "    # Regularizer\n",
    "    def reg(self):\n",
    "        return self.lamb * (tf.reduce_sum(self.betaU**2) +\\\n",
    "               tf.reduce_sum(self.betaI**2) +\\\n",
    "               tf.reduce_sum(self.gammaU**2) +\\\n",
    "               tf.reduce_sum(self.gammaI**2))\n",
    "    \n",
    "    # Prediction for a sample of instances\n",
    "    def predictSample(self, sampleU, sampleI):\n",
    "        u = tf.convert_to_tensor(sampleU, dtype=tf.int32)\n",
    "        i = tf.convert_to_tensor(sampleI, dtype=tf.int32)\n",
    "        beta_u = tf.nn.embedding_lookup(self.betaU, u)\n",
    "        beta_i = tf.nn.embedding_lookup(self.betaI, i)\n",
    "        gamma_u = tf.nn.embedding_lookup(self.gammaU, u)\n",
    "        gamma_i = tf.nn.embedding_lookup(self.gammaI, i)\n",
    "        pred = self.alpha + beta_u + beta_i +\\\n",
    "               tf.reduce_sum(tf.multiply(gamma_u, gamma_i), 1)\n",
    "        return pred\n",
    "    \n",
    "    # Loss\n",
    "    def call(self, sampleU, sampleI, sampleR):\n",
    "        pred = self.predictSample(sampleU, sampleI)\n",
    "        r = tf.convert_to_tensor(sampleR, dtype=tf.float32)\n",
    "        squared_diff = tf.square(pred - r)\n",
    "        mse_loss = tf.reduce_mean(squared_diff)\n",
    "        \n",
    "        return mse_loss"
   ]
  },
  {
   "cell_type": "code",
   "execution_count": 239,
   "id": "8c24b646-3f7b-4c9c-9691-be5ceca64bb1",
   "metadata": {},
   "outputs": [
    {
     "data": {
      "application/vnd.jupyter.widget-view+json": {
       "model_id": "6b299ca8179a4c2ebdfebbeb390ba218",
       "version_major": 2,
       "version_minor": 0
      },
      "text/plain": [
       "  0%|          | 0/101 [00:00<?, ?it/s]"
      ]
     },
     "metadata": {},
     "output_type": "display_data"
    },
    {
     "name": "stdout",
     "output_type": "stream",
     "text": [
      "tf.Tensor(3.6436248, shape=(), dtype=float32)\n",
      "MSE:3.591348648071289\n",
      "tf.Tensor(2.9753976, shape=(), dtype=float32)\n",
      "MSE:2.930438280105591\n",
      "tf.Tensor(2.8019717, shape=(), dtype=float32)\n",
      "MSE:2.7960824966430664\n",
      "tf.Tensor(2.7309363, shape=(), dtype=float32)\n",
      "MSE:2.7315423488616943\n",
      "tf.Tensor(2.7191393, shape=(), dtype=float32)\n",
      "MSE:2.7124366760253906\n",
      "tf.Tensor(2.7188134, shape=(), dtype=float32)\n",
      "MSE:2.707327127456665\n"
     ]
    }
   ],
   "source": [
    "training_result_lfm = {}\n",
    "train_interaction, test_interaction = train_test_split(interactions_50, train_size=0.98, random_state=i)\n",
    "model = LatentFactorModel(average_hours, 30, 0.001)\n",
    "optimizer = tf.keras.optimizers.Adam(0.05)\n",
    "random.seed(116)\n",
    "for i in tqdm(range(101)):\n",
    "    obj = trainingStep(model, train_interaction)\n",
    "    if (i%20 == 0):\n",
    "        print(obj)\n",
    "        sampleU,sampleI,sampleR =zip(*test_interaction)\n",
    "        predR = model.predictSample(sampleU,sampleI)\n",
    "        print(f\"MSE:{MSE(sampleR,predR)}\")\n",
    "        training_result_lfm[i] = (obj, MSE(sampleR,predR))"
   ]
  },
  {
   "cell_type": "code",
   "execution_count": null,
   "id": "27f7e40a-4972-4e41-94f8-d3da2efc5637",
   "metadata": {},
   "outputs": [],
   "source": []
  }
 ],
 "metadata": {
  "kernelspec": {
   "display_name": "Python 3 (ipykernel)",
   "language": "python",
   "name": "python3"
  },
  "language_info": {
   "codemirror_mode": {
    "name": "ipython",
    "version": 3
   },
   "file_extension": ".py",
   "mimetype": "text/x-python",
   "name": "python",
   "nbconvert_exporter": "python",
   "pygments_lexer": "ipython3",
   "version": "3.11.0rc1"
  }
 },
 "nbformat": 4,
 "nbformat_minor": 5
}
